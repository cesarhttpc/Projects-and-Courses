{
 "cells": [
  {
   "cell_type": "markdown",
   "metadata": {},
   "source": [
    "<p style=\"text-align:center\">\n",
    "    <a href=\"https://skills.network\" target=\"_blank\">\n",
    "    <img src=\"https://cf-courses-data.s3.us.cloud-object-storage.appdomain.cloud/assets/logos/SN_web_lightmode.png\" width=\"200\" alt=\"Skills Network Logo\">\n",
    "    </a>\n",
    "</p>\n"
   ]
  },
  {
   "cell_type": "markdown",
   "metadata": {},
   "source": [
    "# **Practice Assignment - Part 1: Analyzing wildfire activities in Australia** \n",
    "\n",
    "Estimated time needed: **40** minutes\n"
   ]
  },
  {
   "cell_type": "markdown",
   "metadata": {},
   "source": [
    "# __Table of Contents__\n",
    "\n",
    "<ol>\n",
    "    <li><a href=\"#Objectives\">Objectives</a></li>\n",
    "    <li>\n",
    "        <a href=\"#Setup\">Setup</a>\n",
    "        <ol>\n",
    "            <li><a href=\"#Installing-Required-Libraries\">Installing Required Libraries</a></li>\n",
    "            <li><a href=\"#Importing-Required-Libraries\">Importing Required Libraries</a></li>\n",
    "    </li>\n",
    "    <li>\n",
    "        <a href=\"#Dataset\">Dataset</a>\n",
    "    </li>\n",
    "    <li><a href=\"#Importing Dataset\">Importing Dataset</a></li>\n",
    "    <li><a href=\"#Practice Tasks\">Practice Tasks</a></li>\n",
    "   \n"
   ]
  },
  {
   "cell_type": "markdown",
   "metadata": {},
   "source": [
    "---\n"
   ]
  },
  {
   "cell_type": "markdown",
   "metadata": {},
   "source": [
    "# Objectives\n",
    "\n",
    "After completing this lab you will be able to:\n",
    "\n",
    " - Use visualization libraries such as Matplotlib, Pandas, Seaborn and Folium to create informative plots and charts \n"
   ]
  },
  {
   "cell_type": "markdown",
   "metadata": {},
   "source": [
    "---\n"
   ]
  },
  {
   "cell_type": "markdown",
   "metadata": {},
   "source": [
    "# Setup\n"
   ]
  },
  {
   "cell_type": "markdown",
   "metadata": {},
   "source": [
    "For this lab, we will be using the following libraries:\n",
    "\n",
    "*   [`pandas`](https://pandas.pydata.org/?utm_medium=Exinfluencer&utm_source=Exinfluencer&utm_content=000026UJ&utm_term=10006555&utm_id=NA-SkillsNetwork-Channel-SkillsNetworkCoursesIBMML0187ENSkillsNetwork31430127-2021-01-01) for managing the data.\n",
    "*   [`numpy`](https://numpy.org/?utm_medium=Exinfluencer&utm_source=Exinfluencer&utm_content=000026UJ&utm_term=10006555&utm_id=NA-SkillsNetwork-Channel-SkillsNetworkCoursesIBMML0187ENSkillsNetwork31430127-2021-01-01) for mathematical operations.\n",
    "*   [`seaborn`](https://seaborn.pydata.org/?utm_medium=Exinfluencer&utm_source=Exinfluencer&utm_content=000026UJ&utm_term=10006555&utm_id=NA-SkillsNetwork-Channel-SkillsNetworkCoursesIBMML0187ENSkillsNetwork31430127-2021-01-01) for visualizing the data.\n",
    "*   [`matplotlib`](https://matplotlib.org/?utm_medium=Exinfluencer&utm_source=Exinfluencer&utm_content=000026UJ&utm_term=10006555&utm_id=NA-SkillsNetwork-Channel-SkillsNetworkCoursesIBMML0187ENSkillsNetwork31430127-2021-01-01) for additional plotting tools.\n"
   ]
  },
  {
   "cell_type": "markdown",
   "metadata": {},
   "source": [
    "### Installing Required Libraries\n",
    "\n",
    "The following required libraries are pre-installed in the Skills Network Labs environment. However, if you run this notebook commands in a different Jupyter environment (e.g. Watson Studio or Ananconda), you will need to install these libraries by removing the `#` sign before `%pip` in the code cell below.\n"
   ]
  },
  {
   "cell_type": "code",
   "execution_count": null,
   "metadata": {},
   "outputs": [],
   "source": [
    "# All Libraries required for this lab are listed below. The libraries pre-installed on Skills Network Labs are commented.\n",
    "# %pip install -qy pandas==1.3.4 numpy==1.21.4 seaborn==0.9.0 matplotlib==3.5.0 folium\n",
    "# Note: If your environment doesn't support \"%pip install\", use \"!mamba install\""
   ]
  },
  {
   "cell_type": "code",
   "execution_count": null,
   "metadata": {},
   "outputs": [],
   "source": [
    "# %pip install seaborn\n",
    "# %pip install folium\n",
    "# %pip install js"
   ]
  },
  {
   "cell_type": "markdown",
   "metadata": {},
   "source": [
    "### Importing Required Libraries\n",
    "\n",
    "_We recommend you import all required libraries in one place (here):_\n"
   ]
  },
  {
   "cell_type": "code",
   "execution_count": 1,
   "metadata": {},
   "outputs": [],
   "source": [
    "import numpy as np\n",
    "import pandas as pd\n",
    "import matplotlib.pyplot as plt\n",
    "import seaborn as sns\n",
    "import folium\n",
    "%matplotlib inline"
   ]
  },
  {
   "cell_type": "markdown",
   "metadata": {},
   "source": [
    "---\n"
   ]
  },
  {
   "cell_type": "markdown",
   "metadata": {},
   "source": [
    "# Dataset\n",
    "\n",
    "**Historical Wildfires**\n",
    "\n",
    "This wildfire dataset contains data on fire activities in Australia starting from 2005. Additional information can be found [here](https://earthdata.nasa.gov/earth-observation-data/near-real-time/firms/c6-mcd14dl).\n",
    "\n",
    "Variables\n",
    "\n",
    "- Region: the 7 regions\n",
    "- Date: in UTC and provide the data for 24 hours ahead\n",
    "- Estimated_fire_area: daily sum of estimated fire area for presumed vegetation fires with a confidence > 75% for a each region in km2\n",
    "- Mean_estimated_fire_brightness: daily mean (by flagged fire pixels(=count)) of estimated fire brightness for presumed vegetation fires with a confidence level > 75% in Kelvin\n",
    "- Mean_estimated_fire_radiative_power: daily mean of estimated radiative power for presumed vegetation fires with a confidence level > 75% for a given region in megawatts\n",
    "- Mean_confidence: daily mean of confidence for presumed vegetation fires with a confidence level > 75%\n",
    "- Std_confidence: standard deviation of estimated fire radiative power in megawatts\n",
    "- Var_confidence: Variance of estimated fire radiative power in megawatts\n",
    "- Count: daily numbers of pixels for presumed vegetation fires with a confidence level of larger than 75% for a given region\n",
    "- Replaced: Indicates with an Y whether the data has been replaced with standard quality data when they are available (usually with a 2-3 month lag). Replaced data has a slightly higher quality in terms of locations\n"
   ]
  },
  {
   "cell_type": "markdown",
   "metadata": {},
   "source": [
    "---\n"
   ]
  },
  {
   "cell_type": "markdown",
   "metadata": {},
   "source": [
    "### Importing Data\n"
   ]
  },
  {
   "cell_type": "code",
   "execution_count": 2,
   "metadata": {},
   "outputs": [
    {
     "name": "stdout",
     "output_type": "stream",
     "text": [
      "Data read into a pandas dataframe!\n"
     ]
    },
    {
     "data": {
      "text/html": [
       "<div>\n",
       "<style scoped>\n",
       "    .dataframe tbody tr th:only-of-type {\n",
       "        vertical-align: middle;\n",
       "    }\n",
       "\n",
       "    .dataframe tbody tr th {\n",
       "        vertical-align: top;\n",
       "    }\n",
       "\n",
       "    .dataframe thead th {\n",
       "        text-align: right;\n",
       "    }\n",
       "</style>\n",
       "<table border=\"1\" class=\"dataframe\">\n",
       "  <thead>\n",
       "    <tr style=\"text-align: right;\">\n",
       "      <th></th>\n",
       "      <th>Region</th>\n",
       "      <th>Date</th>\n",
       "      <th>Estimated_fire_area</th>\n",
       "      <th>Mean_estimated_fire_brightness</th>\n",
       "      <th>Mean_estimated_fire_radiative_power</th>\n",
       "      <th>Mean_confidence</th>\n",
       "      <th>Std_confidence</th>\n",
       "      <th>Var_confidence</th>\n",
       "      <th>Count</th>\n",
       "      <th>Replaced</th>\n",
       "    </tr>\n",
       "  </thead>\n",
       "  <tbody>\n",
       "    <tr>\n",
       "      <th>0</th>\n",
       "      <td>NSW</td>\n",
       "      <td>1/4/2005</td>\n",
       "      <td>8.680000</td>\n",
       "      <td>312.266667</td>\n",
       "      <td>42.400000</td>\n",
       "      <td>78.666667</td>\n",
       "      <td>2.886751</td>\n",
       "      <td>8.333333</td>\n",
       "      <td>3</td>\n",
       "      <td>R</td>\n",
       "    </tr>\n",
       "    <tr>\n",
       "      <th>1</th>\n",
       "      <td>NSW</td>\n",
       "      <td>1/5/2005</td>\n",
       "      <td>16.611250</td>\n",
       "      <td>322.475000</td>\n",
       "      <td>62.362500</td>\n",
       "      <td>85.500000</td>\n",
       "      <td>8.088793</td>\n",
       "      <td>65.428571</td>\n",
       "      <td>8</td>\n",
       "      <td>R</td>\n",
       "    </tr>\n",
       "    <tr>\n",
       "      <th>2</th>\n",
       "      <td>NSW</td>\n",
       "      <td>1/6/2005</td>\n",
       "      <td>5.520000</td>\n",
       "      <td>325.266667</td>\n",
       "      <td>38.400000</td>\n",
       "      <td>78.333333</td>\n",
       "      <td>3.214550</td>\n",
       "      <td>10.333333</td>\n",
       "      <td>3</td>\n",
       "      <td>R</td>\n",
       "    </tr>\n",
       "    <tr>\n",
       "      <th>3</th>\n",
       "      <td>NSW</td>\n",
       "      <td>1/7/2005</td>\n",
       "      <td>6.264000</td>\n",
       "      <td>313.870000</td>\n",
       "      <td>33.800000</td>\n",
       "      <td>92.200000</td>\n",
       "      <td>7.529940</td>\n",
       "      <td>56.700000</td>\n",
       "      <td>5</td>\n",
       "      <td>R</td>\n",
       "    </tr>\n",
       "    <tr>\n",
       "      <th>4</th>\n",
       "      <td>NSW</td>\n",
       "      <td>1/8/2005</td>\n",
       "      <td>5.400000</td>\n",
       "      <td>337.383333</td>\n",
       "      <td>122.533333</td>\n",
       "      <td>91.000000</td>\n",
       "      <td>7.937254</td>\n",
       "      <td>63.000000</td>\n",
       "      <td>3</td>\n",
       "      <td>R</td>\n",
       "    </tr>\n",
       "    <tr>\n",
       "      <th>...</th>\n",
       "      <td>...</td>\n",
       "      <td>...</td>\n",
       "      <td>...</td>\n",
       "      <td>...</td>\n",
       "      <td>...</td>\n",
       "      <td>...</td>\n",
       "      <td>...</td>\n",
       "      <td>...</td>\n",
       "      <td>...</td>\n",
       "      <td>...</td>\n",
       "    </tr>\n",
       "    <tr>\n",
       "      <th>26401</th>\n",
       "      <td>WA</td>\n",
       "      <td>10/27/2020</td>\n",
       "      <td>32.970000</td>\n",
       "      <td>324.068182</td>\n",
       "      <td>103.318182</td>\n",
       "      <td>84.363636</td>\n",
       "      <td>5.277741</td>\n",
       "      <td>27.854545</td>\n",
       "      <td>11</td>\n",
       "      <td>N</td>\n",
       "    </tr>\n",
       "    <tr>\n",
       "      <th>26402</th>\n",
       "      <td>WA</td>\n",
       "      <td>10/28/2020</td>\n",
       "      <td>20.840625</td>\n",
       "      <td>314.425000</td>\n",
       "      <td>37.256250</td>\n",
       "      <td>88.312500</td>\n",
       "      <td>8.121730</td>\n",
       "      <td>65.962500</td>\n",
       "      <td>16</td>\n",
       "      <td>N</td>\n",
       "    </tr>\n",
       "    <tr>\n",
       "      <th>26403</th>\n",
       "      <td>WA</td>\n",
       "      <td>10/29/2020</td>\n",
       "      <td>136.083077</td>\n",
       "      <td>323.588461</td>\n",
       "      <td>294.102564</td>\n",
       "      <td>92.974359</td>\n",
       "      <td>8.282789</td>\n",
       "      <td>68.604588</td>\n",
       "      <td>39</td>\n",
       "      <td>N</td>\n",
       "    </tr>\n",
       "    <tr>\n",
       "      <th>26404</th>\n",
       "      <td>WA</td>\n",
       "      <td>10/30/2020</td>\n",
       "      <td>42.397895</td>\n",
       "      <td>324.205263</td>\n",
       "      <td>54.994737</td>\n",
       "      <td>89.631579</td>\n",
       "      <td>8.461107</td>\n",
       "      <td>71.590327</td>\n",
       "      <td>38</td>\n",
       "      <td>N</td>\n",
       "    </tr>\n",
       "    <tr>\n",
       "      <th>26405</th>\n",
       "      <td>WA</td>\n",
       "      <td>10/31/2020</td>\n",
       "      <td>107.370851</td>\n",
       "      <td>330.057447</td>\n",
       "      <td>201.625532</td>\n",
       "      <td>92.978723</td>\n",
       "      <td>7.266628</td>\n",
       "      <td>52.803885</td>\n",
       "      <td>47</td>\n",
       "      <td>N</td>\n",
       "    </tr>\n",
       "  </tbody>\n",
       "</table>\n",
       "<p>26406 rows × 10 columns</p>\n",
       "</div>"
      ],
      "text/plain": [
       "      Region        Date  Estimated_fire_area  Mean_estimated_fire_brightness  \\\n",
       "0        NSW    1/4/2005             8.680000                      312.266667   \n",
       "1        NSW    1/5/2005            16.611250                      322.475000   \n",
       "2        NSW    1/6/2005             5.520000                      325.266667   \n",
       "3        NSW    1/7/2005             6.264000                      313.870000   \n",
       "4        NSW    1/8/2005             5.400000                      337.383333   \n",
       "...      ...         ...                  ...                             ...   \n",
       "26401     WA  10/27/2020            32.970000                      324.068182   \n",
       "26402     WA  10/28/2020            20.840625                      314.425000   \n",
       "26403     WA  10/29/2020           136.083077                      323.588461   \n",
       "26404     WA  10/30/2020            42.397895                      324.205263   \n",
       "26405     WA  10/31/2020           107.370851                      330.057447   \n",
       "\n",
       "       Mean_estimated_fire_radiative_power  Mean_confidence  Std_confidence  \\\n",
       "0                                42.400000        78.666667        2.886751   \n",
       "1                                62.362500        85.500000        8.088793   \n",
       "2                                38.400000        78.333333        3.214550   \n",
       "3                                33.800000        92.200000        7.529940   \n",
       "4                               122.533333        91.000000        7.937254   \n",
       "...                                    ...              ...             ...   \n",
       "26401                           103.318182        84.363636        5.277741   \n",
       "26402                            37.256250        88.312500        8.121730   \n",
       "26403                           294.102564        92.974359        8.282789   \n",
       "26404                            54.994737        89.631579        8.461107   \n",
       "26405                           201.625532        92.978723        7.266628   \n",
       "\n",
       "       Var_confidence  Count Replaced  \n",
       "0            8.333333      3        R  \n",
       "1           65.428571      8        R  \n",
       "2           10.333333      3        R  \n",
       "3           56.700000      5        R  \n",
       "4           63.000000      3        R  \n",
       "...               ...    ...      ...  \n",
       "26401       27.854545     11        N  \n",
       "26402       65.962500     16        N  \n",
       "26403       68.604588     39        N  \n",
       "26404       71.590327     38        N  \n",
       "26405       52.803885     47        N  \n",
       "\n",
       "[26406 rows x 10 columns]"
      ]
     },
     "execution_count": 2,
     "metadata": {},
     "output_type": "execute_result"
    }
   ],
   "source": [
    "# from js import fetch\n",
    "# import io\n",
    "\n",
    "URL = \"https://cf-courses-data.s3.us.cloud-object-storage.appdomain.cloud/IBMDeveloperSkillsNetwork-DV0101EN-SkillsNetwork/Data%20Files/Historical_Wildfires.csv\"\n",
    "# resp = await fetch(URL)\n",
    "# text = io.BytesIO((await resp.arrayBuffer()).to_py())\n",
    "df = pd.read_csv(URL)\n",
    "print('Data read into a pandas dataframe!')\n",
    "df\n"
   ]
  },
  {
   "cell_type": "markdown",
   "metadata": {},
   "source": [
    "Let's look at some samples rows from the dataset we loaded:\n"
   ]
  },
  {
   "cell_type": "code",
   "execution_count": 3,
   "metadata": {},
   "outputs": [
    {
     "data": {
      "text/html": [
       "<div>\n",
       "<style scoped>\n",
       "    .dataframe tbody tr th:only-of-type {\n",
       "        vertical-align: middle;\n",
       "    }\n",
       "\n",
       "    .dataframe tbody tr th {\n",
       "        vertical-align: top;\n",
       "    }\n",
       "\n",
       "    .dataframe thead th {\n",
       "        text-align: right;\n",
       "    }\n",
       "</style>\n",
       "<table border=\"1\" class=\"dataframe\">\n",
       "  <thead>\n",
       "    <tr style=\"text-align: right;\">\n",
       "      <th></th>\n",
       "      <th>Region</th>\n",
       "      <th>Date</th>\n",
       "      <th>Estimated_fire_area</th>\n",
       "      <th>Mean_estimated_fire_brightness</th>\n",
       "      <th>Mean_estimated_fire_radiative_power</th>\n",
       "      <th>Mean_confidence</th>\n",
       "      <th>Std_confidence</th>\n",
       "      <th>Var_confidence</th>\n",
       "      <th>Count</th>\n",
       "      <th>Replaced</th>\n",
       "    </tr>\n",
       "  </thead>\n",
       "  <tbody>\n",
       "    <tr>\n",
       "      <th>0</th>\n",
       "      <td>NSW</td>\n",
       "      <td>1/4/2005</td>\n",
       "      <td>8.68000</td>\n",
       "      <td>312.266667</td>\n",
       "      <td>42.400000</td>\n",
       "      <td>78.666667</td>\n",
       "      <td>2.886751</td>\n",
       "      <td>8.333333</td>\n",
       "      <td>3</td>\n",
       "      <td>R</td>\n",
       "    </tr>\n",
       "    <tr>\n",
       "      <th>1</th>\n",
       "      <td>NSW</td>\n",
       "      <td>1/5/2005</td>\n",
       "      <td>16.61125</td>\n",
       "      <td>322.475000</td>\n",
       "      <td>62.362500</td>\n",
       "      <td>85.500000</td>\n",
       "      <td>8.088793</td>\n",
       "      <td>65.428571</td>\n",
       "      <td>8</td>\n",
       "      <td>R</td>\n",
       "    </tr>\n",
       "    <tr>\n",
       "      <th>2</th>\n",
       "      <td>NSW</td>\n",
       "      <td>1/6/2005</td>\n",
       "      <td>5.52000</td>\n",
       "      <td>325.266667</td>\n",
       "      <td>38.400000</td>\n",
       "      <td>78.333333</td>\n",
       "      <td>3.214550</td>\n",
       "      <td>10.333333</td>\n",
       "      <td>3</td>\n",
       "      <td>R</td>\n",
       "    </tr>\n",
       "    <tr>\n",
       "      <th>3</th>\n",
       "      <td>NSW</td>\n",
       "      <td>1/7/2005</td>\n",
       "      <td>6.26400</td>\n",
       "      <td>313.870000</td>\n",
       "      <td>33.800000</td>\n",
       "      <td>92.200000</td>\n",
       "      <td>7.529940</td>\n",
       "      <td>56.700000</td>\n",
       "      <td>5</td>\n",
       "      <td>R</td>\n",
       "    </tr>\n",
       "    <tr>\n",
       "      <th>4</th>\n",
       "      <td>NSW</td>\n",
       "      <td>1/8/2005</td>\n",
       "      <td>5.40000</td>\n",
       "      <td>337.383333</td>\n",
       "      <td>122.533333</td>\n",
       "      <td>91.000000</td>\n",
       "      <td>7.937254</td>\n",
       "      <td>63.000000</td>\n",
       "      <td>3</td>\n",
       "      <td>R</td>\n",
       "    </tr>\n",
       "  </tbody>\n",
       "</table>\n",
       "</div>"
      ],
      "text/plain": [
       "  Region      Date  Estimated_fire_area  Mean_estimated_fire_brightness  \\\n",
       "0    NSW  1/4/2005              8.68000                      312.266667   \n",
       "1    NSW  1/5/2005             16.61125                      322.475000   \n",
       "2    NSW  1/6/2005              5.52000                      325.266667   \n",
       "3    NSW  1/7/2005              6.26400                      313.870000   \n",
       "4    NSW  1/8/2005              5.40000                      337.383333   \n",
       "\n",
       "   Mean_estimated_fire_radiative_power  Mean_confidence  Std_confidence  \\\n",
       "0                            42.400000        78.666667        2.886751   \n",
       "1                            62.362500        85.500000        8.088793   \n",
       "2                            38.400000        78.333333        3.214550   \n",
       "3                            33.800000        92.200000        7.529940   \n",
       "4                           122.533333        91.000000        7.937254   \n",
       "\n",
       "   Var_confidence  Count Replaced  \n",
       "0        8.333333      3        R  \n",
       "1       65.428571      8        R  \n",
       "2       10.333333      3        R  \n",
       "3       56.700000      5        R  \n",
       "4       63.000000      3        R  "
      ]
     },
     "execution_count": 3,
     "metadata": {},
     "output_type": "execute_result"
    }
   ],
   "source": [
    "df.head()"
   ]
  },
  {
   "cell_type": "markdown",
   "metadata": {},
   "source": [
    "---\n"
   ]
  },
  {
   "cell_type": "markdown",
   "metadata": {},
   "source": [
    "Let's verify the column names and the data type of each variable\n"
   ]
  },
  {
   "cell_type": "code",
   "execution_count": 4,
   "metadata": {},
   "outputs": [
    {
     "data": {
      "text/plain": [
       "Index(['Region', 'Date', 'Estimated_fire_area',\n",
       "       'Mean_estimated_fire_brightness', 'Mean_estimated_fire_radiative_power',\n",
       "       'Mean_confidence', 'Std_confidence', 'Var_confidence', 'Count',\n",
       "       'Replaced'],\n",
       "      dtype='object')"
      ]
     },
     "execution_count": 4,
     "metadata": {},
     "output_type": "execute_result"
    }
   ],
   "source": [
    "#Column names\n",
    "df.columns"
   ]
  },
  {
   "cell_type": "code",
   "execution_count": 5,
   "metadata": {},
   "outputs": [
    {
     "data": {
      "text/plain": [
       "Region                                  object\n",
       "Date                                    object\n",
       "Estimated_fire_area                    float64\n",
       "Mean_estimated_fire_brightness         float64\n",
       "Mean_estimated_fire_radiative_power    float64\n",
       "Mean_confidence                        float64\n",
       "Std_confidence                         float64\n",
       "Var_confidence                         float64\n",
       "Count                                    int64\n",
       "Replaced                                object\n",
       "dtype: object"
      ]
     },
     "execution_count": 5,
     "metadata": {},
     "output_type": "execute_result"
    }
   ],
   "source": [
    "#data type\n",
    "df.dtypes"
   ]
  },
  {
   "cell_type": "markdown",
   "metadata": {},
   "source": [
    "Notice the type of 'Date' is object, let's convert it to 'datatime' type and also let's extract 'Year' and 'Month' from date and include in the dataframe as separate columns\n"
   ]
  },
  {
   "cell_type": "code",
   "execution_count": 6,
   "metadata": {},
   "outputs": [],
   "source": [
    "import datetime as dt\n",
    "\n",
    "df['Year'] = pd.to_datetime(df['Date']).dt.year\n",
    "df['Month'] = pd.to_datetime(df['Date']).dt.month\n"
   ]
  },
  {
   "cell_type": "markdown",
   "metadata": {},
   "source": [
    "**Verify the columns again**\n"
   ]
  },
  {
   "cell_type": "code",
   "execution_count": 8,
   "metadata": {},
   "outputs": [
    {
     "data": {
      "text/plain": [
       "Region                                  object\n",
       "Date                                    object\n",
       "Estimated_fire_area                    float64\n",
       "Mean_estimated_fire_brightness         float64\n",
       "Mean_estimated_fire_radiative_power    float64\n",
       "Mean_confidence                        float64\n",
       "Std_confidence                         float64\n",
       "Var_confidence                         float64\n",
       "Count                                    int64\n",
       "Replaced                                object\n",
       "Year                                     int64\n",
       "Month                                    int64\n",
       "dtype: object"
      ]
     },
     "execution_count": 8,
     "metadata": {},
     "output_type": "execute_result"
    }
   ],
   "source": [
    "#verify the columns again\n",
    "df.dtypes"
   ]
  },
  {
   "cell_type": "markdown",
   "metadata": {},
   "source": [
    "<details>\n",
    "    <summary>Click here for Solution</summary>\n",
    "\n",
    "```python\n",
    "    df.dtypes\n",
    "```\n",
    "\n",
    "</details>\n"
   ]
  },
  {
   "cell_type": "markdown",
   "metadata": {},
   "source": [
    "---\n"
   ]
  },
  {
   "cell_type": "markdown",
   "metadata": {},
   "source": [
    "## Practice Tasks\n"
   ]
  },
  {
   "cell_type": "markdown",
   "metadata": {},
   "source": [
    "### TASK 1.1: Let's try to understand the change in average estimated fire area over time <br>(use pandas to plot)\n"
   ]
  },
  {
   "cell_type": "markdown",
   "metadata": {},
   "source": [
    "<details>\n",
    "    <summary>Click here for a Hint</summary>\n",
    "You will be required to group the year for 'Estimated_fire_area' (taking its mean)<br>Then use df.plot() on it to create a line graph\n",
    "\n",
    "</details>\n"
   ]
  },
  {
   "cell_type": "code",
   "execution_count": 20,
   "metadata": {},
   "outputs": [
    {
     "data": {
      "image/png": "[encoded data removed]",
      "text/plain": [
       "<Figure size 864x432 with 1 Axes>"
      ]
     },
     "metadata": {
      "needs_background": "light"
     },
     "output_type": "display_data"
    }
   ],
   "source": [
    "# TODO\n",
    "plt.figure(figsize=(12, 6))\n",
    "change = df.groupby('Year')['Estimated_fire_area'].mean()\n",
    "change.plot(x=change.index,y=change.values)\n",
    "plt.xlabel('Year')\n",
    "plt.ylabel('Average Estimated Fire Area (km²)')\n",
    "plt.title('Estimated Fire Area over Time')\n",
    "plt.show()\n"
   ]
  },
  {
   "cell_type": "markdown",
   "metadata": {},
   "source": [
    "<details>\n",
    "    <summary>Click here for Solution</summary>\n",
    "\n",
    "```python\n",
    "    plt.figure(figsize=(12, 6))\n",
    "    # Grouping the data by 'Year' and calculating the mean of 'Estimated_fire_area'\n",
    "    df_new = df.groupby('Year')['Estimated_fire_area'].mean()\n",
    "    # Plotting the data\n",
    "    df_new.plot(x=df_new.index, y=df_new.values)\n",
    "    plt.xlabel('Year')\n",
    "    plt.ylabel('Average Estimated Fire Area (km²)')\n",
    "    plt.title('Estimated Fire Area over Time')\n",
    "    plt.show()\n",
    "```\n",
    "\n",
    "</details>\n"
   ]
  },
  {
   "cell_type": "markdown",
   "metadata": {},
   "source": [
    "---\n"
   ]
  },
  {
   "cell_type": "markdown",
   "metadata": {},
   "source": [
    "### TASK 1.2: You can notice the peak in the plot between 2010 to 2013. Let's narrow down our finding, by plotting the estimated fire area for year grouped together with month.\n"
   ]
  },
  {
   "cell_type": "markdown",
   "metadata": {},
   "source": [
    "<details>\n",
    "    <summary>Click here for a Hint</summary>\n",
    "You will be required to group the year and month for 'Estimated_fire_area' (taking its mean)<br>Then use df.plot() on it to create a line graph\n",
    "\n",
    "</details>\n"
   ]
  },
  {
   "cell_type": "code",
   "execution_count": 26,
   "metadata": {},
   "outputs": [
    {
     "data": {
      "image/png": "[encoded data removed]",
      "text/plain": [
       "<Figure size 864x432 with 1 Axes>"
      ]
     },
     "metadata": {
      "needs_background": "light"
     },
     "output_type": "display_data"
    }
   ],
   "source": [
    "# TODO\n",
    "plt.figure(figsize=(12, 6))\n",
    "df_month = df.groupby(['Year','Month'])['Estimated_fire_area'].mean()\n",
    "df_month.plot(x=df_month.index, y=df_month.values)\n",
    "plt.xlabel('Year, Month')\n",
    "plt.ylabel('Average Estimated Fire Area (km²)')\n",
    "plt.title('Estimated Fire Area over Time')\n",
    "plt.show()"
   ]
  },
  {
   "cell_type": "markdown",
   "metadata": {},
   "source": [
    "<details>\n",
    "    <summary>Click here for Solution</summary>\n",
    "\n",
    "```python\n",
    "    # Grouping the data by both 'Year' and 'Month', and calculating the mean of 'Estimated_fire_area'\n",
    "    df_new = df.groupby(['Year','Month'])['Estimated_fire_area'].mean()\n",
    "    # Plotting the data\n",
    "    df_new.plot(x=df_new.index, y=df_new.values)\n",
    "    plt.xlabel('Year, Month')\n",
    "    plt.ylabel('Average Estimated Fire Area (km²)')\n",
    "    plt.title('Estimated Fire Area over Time')\n",
    "    plt.show()\n",
    "```\n",
    "\n",
    "</details>\n"
   ]
  },
  {
   "cell_type": "markdown",
   "metadata": {},
   "source": [
    "This plot represents that the estimated fire area was on its peak after 2011, April and before 2012. You can verify on google/news, this was the time of maximum wildfire hit in Austrailia\n"
   ]
  },
  {
   "cell_type": "markdown",
   "metadata": {},
   "source": [
    "---\n"
   ]
  },
  {
   "cell_type": "markdown",
   "metadata": {},
   "source": [
    "### TASK 1.3: Let's have an insight on the distribution of mean estimated fire brightness across the regions<br> use the functionality of seaborn to develop a barplot\n"
   ]
  },
  {
   "cell_type": "markdown",
   "metadata": {},
   "source": [
    "before starting with the plot, why not know the regions mentioned in the dataset?. <br>Make use of unique() to identify the regions in the dataset (apply it on series only)\n"
   ]
  },
  {
   "cell_type": "code",
   "execution_count": 27,
   "metadata": {},
   "outputs": [
    {
     "data": {
      "text/plain": [
       "array(['NSW', 'NT', 'QL', 'SA', 'TA', 'VI', 'WA'], dtype=object)"
      ]
     },
     "execution_count": 27,
     "metadata": {},
     "output_type": "execute_result"
    }
   ],
   "source": [
    "df['Region'].unique()"
   ]
  },
  {
   "cell_type": "markdown",
   "metadata": {},
   "source": [
    "<details>\n",
    "    <summary>Click here for a Hint</summary>\n",
    "you need to plot reions on x-axis and the 'Mean_estimated_fire_brightness' on y-axis.<br>Title it as 'Distribution of Mean Estimated Fire Brightness across Regions'\n",
    "</details>\n"
   ]
  },
  {
   "cell_type": "code",
   "execution_count": 31,
   "metadata": {},
   "outputs": [
    {
     "data": {
      "image/png": "[encoded data removed]",
      "text/plain": [
       "<Figure size 720x432 with 1 Axes>"
      ]
     },
     "metadata": {
      "needs_background": "light"
     },
     "output_type": "display_data"
    }
   ],
   "source": [
    "# df1 = df.groupby('Region')['Mean_estimated_fire_brightness'].mean()\n",
    "# df1.plot()\n",
    "\n",
    "# Creating a bar plot using seaborn to visualize the distribution of mean estimated fire brightness across regions\n",
    "plt.figure(figsize=(10, 6))\n",
    "# Using seaborn's barplot function to create the plot\n",
    "sns.barplot(data=df, x='Region', y='Mean_estimated_fire_brightness')\n",
    "plt.xlabel('Region')\n",
    "plt.ylabel('Mean Estimated Fire Brightness (Kelvin)')\n",
    "plt.title('Distribution of Mean Estimated Fire Brightness across Regions')\n",
    "plt.show()"
   ]
  },
  {
   "cell_type": "markdown",
   "metadata": {},
   "source": [
    "<details>\n",
    "    <summary>Click here for Solution</summary>\n",
    "\n",
    "```python\n",
    "# Creating a bar plot using seaborn to visualize the distribution of mean estimated fire brightness across regions\n",
    "plt.figure(figsize=(10, 6))\n",
    "# Using seaborn's barplot function to create the plot\n",
    "sns.barplot(data=df, x='Region', y='Mean_estimated_fire_brightness')\n",
    "plt.xlabel('Region')\n",
    "plt.ylabel('Mean Estimated Fire Brightness (Kelvin)')\n",
    "plt.title('Distribution of Mean Estimated Fire Brightness across Regions')\n",
    "plt.show()\n",
    "```\n",
    "</details>\n"
   ]
  },
  {
   "cell_type": "markdown",
   "metadata": {},
   "source": [
    "---\n"
   ]
  },
  {
   "cell_type": "markdown",
   "metadata": {},
   "source": [
    "### TASK 1.4: Let's find the portion of count of pixels for presumed vegetation fires vary across regions<br> we will develop a pie chart for this\n"
   ]
  },
  {
   "cell_type": "markdown",
   "metadata": {},
   "source": [
    "<details>\n",
    "    <summary>Click here for a Hint</summary>\n",
    "First you will  be required to group the data on region and find the sum of count\n",
    "</details>\n"
   ]
  },
  {
   "cell_type": "code",
   "execution_count": 39,
   "metadata": {},
   "outputs": [
    {
     "data": {
      "image/png": "[encoded data removed]",
      "text/plain": [
       "<Figure size 720x432 with 1 Axes>"
      ]
     },
     "metadata": {},
     "output_type": "display_data"
    }
   ],
   "source": [
    "plt.figure(figsize=(10, 6))\n",
    "df_counts = df.groupby('Region')['Count'].sum()\n",
    "plt.pie(df_counts, labels=df_counts.index,autopct='%1.1f%%')\n",
    "plt.title('Percentage of Pixels for Presumed Vegetation Fires by Region')\n",
    "plt.axis('equal')\n",
    "plt.show()"
   ]
  },
  {
   "cell_type": "markdown",
   "metadata": {},
   "source": [
    "<details>\n",
    "    <summary>Click here for Solution</summary>\n",
    "\n",
    "```python\n",
    "# Creating a pie chart to visualize the portion of count of pixels for presumed vegetation fires across regions\n",
    "plt.figure(figsize=(10, 6))\n",
    "# Grouping the data by region and summing the counts\n",
    "region_counts = df.groupby('Region')['Count'].sum()\n",
    "# Creating the pie chart using plt.pie function\n",
    "# Labels are set to the region names, and autopct is used to display percentage\n",
    "plt.pie(region_counts, labels=region_counts.index, autopct='%1.1f%%')\n",
    "plt.title('Percentage of Pixels for Presumed Vegetation Fires by Region')\n",
    "plt.axis('equal')\n",
    "plt.show()\n",
    "```\n",
    "</details>\n"
   ]
  },
  {
   "cell_type": "markdown",
   "metadata": {},
   "source": [
    "### TASK 1.5: See the percentage on the pie is not looking so good as it is overlaped for Region SA, TA, VI \n",
    "\n",
    "remove the autopct fromm pie function and pass the following to plt.legend() after plt.title() <br>\n",
    "`[(i,round(k/region_counts.sum()*100,2)) for i,k in zip(region_counts.index, region_counts)]`\n"
   ]
  },
  {
   "cell_type": "code",
   "execution_count": 42,
   "metadata": {},
   "outputs": [
    {
     "data": {
      "image/png": "[encoded data removed]",
      "text/plain": [
       "<Figure size 720x432 with 1 Axes>"
      ]
     },
     "metadata": {},
     "output_type": "display_data"
    }
   ],
   "source": [
    "#TODO\n",
    "plt.figure(figsize=(10, 6))\n",
    "df_counts = df.groupby('Region')['Count'].sum()\n",
    "plt.pie(df_counts, labels=df_counts.index)\n",
    "plt.title('Percentage of Pixels for Presumed Vegetation Fires by Region')\n",
    "plt.legend([(i,round(k/df_counts.sum()*100,2)) for i,k in zip(df_counts.index, df_counts)])\n",
    "plt.axis('equal')\n",
    "plt.show()\n",
    "\n"
   ]
  },
  {
   "cell_type": "markdown",
   "metadata": {},
   "source": [
    "---\n"
   ]
  },
  {
   "cell_type": "markdown",
   "metadata": {},
   "source": [
    "### TASK 1.6: Let's try to develop a histogram of the mean estimated fire brightness<br> Using Matplotlib to create the histogram\n"
   ]
  },
  {
   "cell_type": "markdown",
   "metadata": {},
   "source": [
    "<details>\n",
    "    <summary>Click here for a Hint</summary>\n",
    "    Call plt.hist() and pass df['Mean_estimated_fire_brightness'] as x\n",
    "</details>\n"
   ]
  },
  {
   "cell_type": "code",
   "execution_count": 43,
   "metadata": {},
   "outputs": [
    {
     "data": {
      "text/plain": [
       "(array([3.3200e+02, 2.6460e+03, 8.1420e+03, 1.0336e+04, 4.1960e+03,\n",
       "        6.1500e+02, 1.1400e+02, 1.6000e+01, 6.0000e+00, 3.0000e+00]),\n",
       " array([290.7  , 299.825, 308.95 , 318.075, 327.2  , 336.325, 345.45 ,\n",
       "        354.575, 363.7  , 372.825, 381.95 ]),\n",
       " <BarContainer object of 10 artists>)"
      ]
     },
     "execution_count": 43,
     "metadata": {},
     "output_type": "execute_result"
    },
    {
     "data": {
      "image/png": "[encoded data removed]",
      "text/plain": [
       "<Figure size 432x288 with 1 Axes>"
      ]
     },
     "metadata": {
      "needs_background": "light"
     },
     "output_type": "display_data"
    }
   ],
   "source": [
    "#TODO\n",
    "plt.hist(df['Mean_estimated_fire_brightness'])"
   ]
  },
  {
   "cell_type": "markdown",
   "metadata": {},
   "source": [
    "<details>\n",
    "    <summary>Click here for Solution</summary>\n",
    "\n",
    "```python\n",
    "# Creating a histogram to visualize the distribution of mean estimated fire brightness\n",
    "plt.figure(figsize=(10, 6))\n",
    "# Using plt.hist to create the histogram\n",
    "# Setting the number of bins to 20 for better visualization\n",
    "plt.hist(x=df['Mean_estimated_fire_brightness'], bins=20)\n",
    "plt.xlabel('Mean Estimated Fire Brightness (Kelvin)')\n",
    "plt.ylabel('Count')\n",
    "plt.title('Histogram of Mean Estimated Fire Brightness')\n",
    "plt.show()\n",
    "```\n",
    "</details>\n"
   ]
  },
  {
   "cell_type": "markdown",
   "metadata": {},
   "source": [
    "### TASK 1.7: What if we need to understand the distribution of estimated fire brightness across regions? Let's use the functionality of seaborn and  pass region as hue\n"
   ]
  },
  {
   "cell_type": "code",
   "execution_count": 46,
   "metadata": {},
   "outputs": [
    {
     "data": {
      "image/png": "[encoded data removed]",
      "text/plain": [
       "<Figure size 432x288 with 1 Axes>"
      ]
     },
     "metadata": {
      "needs_background": "light"
     },
     "output_type": "display_data"
    }
   ],
   "source": [
    "sns.histplot(data=df,x='Mean_estimated_fire_brightness',hue='Region')\n",
    "plt.show()"
   ]
  },
  {
   "cell_type": "markdown",
   "metadata": {},
   "source": [
    "<details>\n",
    "    <summary>Click here for Solution</summary>\n",
    "\n",
    "```python\n",
    "# Creating a histogram to visualize the distribution of mean estimated fire brightness across regions using Seaborn\n",
    "# Using sns.histplot to create the histogram\n",
    "# Specifying the DataFrame (data=df) and the column for the x-axis (x='Mean_estimated_fire_brightness')\n",
    "# Adding hue='Region' to differentiate the distribution across regions\n",
    "sns.histplot(data=df, x='Mean_estimated_fire_brightness', hue='Region')\n",
    "plt.show()\n",
    "```\n",
    "</details>\n"
   ]
  },
  {
   "cell_type": "markdown",
   "metadata": {},
   "source": [
    "### looks better!, now include the parameter `multiple='stack'` in the histplot() and see the difference. Include labels and titles as well\n"
   ]
  },
  {
   "cell_type": "code",
   "execution_count": 47,
   "metadata": {},
   "outputs": [
    {
     "data": {
      "image/png": "[encoded data removed]",
      "text/plain": [
       "<Figure size 432x288 with 1 Axes>"
      ]
     },
     "metadata": {
      "needs_background": "light"
     },
     "output_type": "display_data"
    }
   ],
   "source": [
    "sns.histplot(data=df,x='Mean_estimated_fire_brightness',hue='Region',multiple='stack')\n",
    "plt.show()"
   ]
  },
  {
   "cell_type": "markdown",
   "metadata": {},
   "source": [
    "<details>\n",
    "    <summary>Click here for Solution</summary>\n",
    "\n",
    "```python\n",
    "# Creating a stacked histogram to visualize the distribution of mean estimated fire brightness across regions using Seaborn\n",
    "# Using sns.histplot to create the stacked histogram\n",
    "# Specifying the DataFrame (data=df) and the column for the x-axis (x='Mean_estimated_fire_brightness')\n",
    "# Adding hue='Region' to differentiate the distribution across regions\n",
    "# Setting multiple='stack' to stack the histograms for different regions\n",
    "sns.histplot(data=df, x='Mean_estimated_fire_brightness', hue='Region', multiple='stack')\n",
    "plt.show()\n",
    "```\n",
    "</details>\n"
   ]
  },
  {
   "cell_type": "markdown",
   "metadata": {},
   "source": [
    "---\n"
   ]
  },
  {
   "cell_type": "markdown",
   "metadata": {},
   "source": [
    "### TASK 1.8: Let's try to find if there is any correlation between mean estimated fire radiative power and mean confidence level?\n"
   ]
  },
  {
   "cell_type": "markdown",
   "metadata": {},
   "source": [
    "<details>\n",
    "    <summary>Click here for a Hint</summary>\n",
    "    Call plt.scatter() <br> or use the sns.scatterplot()\n",
    "</details>\n"
   ]
  },
  {
   "cell_type": "code",
   "execution_count": 48,
   "metadata": {},
   "outputs": [
    {
     "data": {
      "image/png": "[encoded data removed]",
      "text/plain": [
       "<Figure size 432x288 with 1 Axes>"
      ]
     },
     "metadata": {
      "needs_background": "light"
     },
     "output_type": "display_data"
    }
   ],
   "source": [
    "sns.scatterplot(figsize=(8,6))\n",
    "sns.scatterplot(data=df, x='Mean_confidence', y= 'Mean_estimated_fire_radiative_power')\n",
    "plt.xlabel('Mean Estimated Fire Radiative Power (MW)')\n",
    "plt.ylabel('Mean Confidence')\n",
    "plt.title('Mean Estimated Fire Radiative Power vs. Mean Confidence')\n",
    "plt.show()"
   ]
  },
  {
   "cell_type": "markdown",
   "metadata": {},
   "source": [
    "<details>\n",
    "    <summary>Click here for Solution</summary>\n",
    "\n",
    "```python\n",
    "    # Creating a scatter plot to visualize the relationship between mean estimated fire radiative power and mean  confidence using Seaborn\n",
    "    plt.figure(figsize=(8, 6))\n",
    "    # Using sns.scatterplot to create the scatter plot\n",
    "    # Specifying the DataFrame (data=df) and the columns for the x-axis (x='Mean_confidence') and y-axis            (y='Mean_estimated_fire_radiative_power')\n",
    "    sns.scatterplot(data=df, x='Mean_confidence', y='Mean_estimated_fire_radiative_power')\n",
    "    plt.xlabel('Mean Estimated Fire Radiative Power (MW)')\n",
    "    plt.ylabel('Mean Confidence')\n",
    "    plt.title('Mean Estimated Fire Radiative Power vs. Mean Confidence')\n",
    "    plt.show()\n",
    "```\n",
    "</details>\n"
   ]
  },
  {
   "cell_type": "markdown",
   "metadata": {},
   "source": [
    "---\n"
   ]
  },
  {
   "cell_type": "markdown",
   "metadata": {},
   "source": [
    "### TASK 1.9: Let's mark these seven regions on the Map of Australia using Folium\n",
    "<br> we have created a dataframe for you containing the regions, their latitudes and longitudes. <br> For australia use [-25, 135] as location to create the map\n"
   ]
  },
  {
   "cell_type": "code",
   "execution_count": 49,
   "metadata": {},
   "outputs": [
    {
     "data": {
      "text/html": [
       "<div>\n",
       "<style scoped>\n",
       "    .dataframe tbody tr th:only-of-type {\n",
       "        vertical-align: middle;\n",
       "    }\n",
       "\n",
       "    .dataframe tbody tr th {\n",
       "        vertical-align: top;\n",
       "    }\n",
       "\n",
       "    .dataframe thead th {\n",
       "        text-align: right;\n",
       "    }\n",
       "</style>\n",
       "<table border=\"1\" class=\"dataframe\">\n",
       "  <thead>\n",
       "    <tr style=\"text-align: right;\">\n",
       "      <th></th>\n",
       "      <th>region</th>\n",
       "      <th>Lat</th>\n",
       "      <th>Lon</th>\n",
       "    </tr>\n",
       "  </thead>\n",
       "  <tbody>\n",
       "    <tr>\n",
       "      <th>0</th>\n",
       "      <td>NSW</td>\n",
       "      <td>-31.875984</td>\n",
       "      <td>147.286949</td>\n",
       "    </tr>\n",
       "    <tr>\n",
       "      <th>1</th>\n",
       "      <td>QL</td>\n",
       "      <td>-22.164678</td>\n",
       "      <td>144.584490</td>\n",
       "    </tr>\n",
       "    <tr>\n",
       "      <th>2</th>\n",
       "      <td>SA</td>\n",
       "      <td>-30.534367</td>\n",
       "      <td>135.630121</td>\n",
       "    </tr>\n",
       "    <tr>\n",
       "      <th>3</th>\n",
       "      <td>TA</td>\n",
       "      <td>-42.035067</td>\n",
       "      <td>146.636689</td>\n",
       "    </tr>\n",
       "    <tr>\n",
       "      <th>4</th>\n",
       "      <td>VI</td>\n",
       "      <td>-36.598610</td>\n",
       "      <td>144.678005</td>\n",
       "    </tr>\n",
       "    <tr>\n",
       "      <th>5</th>\n",
       "      <td>WA</td>\n",
       "      <td>-25.230300</td>\n",
       "      <td>121.018725</td>\n",
       "    </tr>\n",
       "    <tr>\n",
       "      <th>6</th>\n",
       "      <td>NT</td>\n",
       "      <td>-19.491411</td>\n",
       "      <td>132.550964</td>\n",
       "    </tr>\n",
       "  </tbody>\n",
       "</table>\n",
       "</div>"
      ],
      "text/plain": [
       "  region        Lat         Lon\n",
       "0    NSW -31.875984  147.286949\n",
       "1     QL -22.164678  144.584490\n",
       "2     SA -30.534367  135.630121\n",
       "3     TA -42.035067  146.636689\n",
       "4     VI -36.598610  144.678005\n",
       "5     WA -25.230300  121.018725\n",
       "6     NT -19.491411  132.550964"
      ]
     },
     "execution_count": 49,
     "metadata": {},
     "output_type": "execute_result"
    }
   ],
   "source": [
    "region_data = {'region':['NSW','QL','SA','TA','VI','WA','NT'], 'Lat':[-31.8759835,-22.1646782,-30.5343665,-42.035067,-36.5986096,-25.2303005,-19.491411], \n",
    "               'Lon':[147.2869493,144.5844903,135.6301212,146.6366887,144.6780052,121.0187246,132.550964]}\n",
    "reg=pd.DataFrame(region_data)\n",
    "reg"
   ]
  },
  {
   "cell_type": "code",
   "execution_count": 52,
   "metadata": {},
   "outputs": [
    {
     "data": {
      "text/html": [
       "<div style=\"width:100%;\"><div style=\"position:relative;width:100%;height:0;padding-bottom:60%;\"><span style=\"color:#565656\">Make this Notebook Trusted to load map: File -> Trust Notebook</span><iframe srcdoc=\"&lt;!DOCTYPE html&gt;\n",
       "&lt;html&gt;\n",
       "&lt;head&gt;\n",
       "    \n",
       "    &lt;meta http-equiv=&quot;content-type&quot; content=&quot;text/html; charset=UTF-8&quot; /&gt;\n",
       "    \n",
       "        &lt;script&gt;\n",
       "            L_NO_TOUCH = false;\n",
       "            L_DISABLE_3D = false;\n",
       "        &lt;/script&gt;\n",
       "    \n",
       "    &lt;style&gt;html, body {width: 100%;height: 100%;margin: 0;padding: 0;}&lt;/style&gt;\n",
       "    &lt;style&gt;#map {position:absolute;top:0;bottom:0;right:0;left:0;}&lt;/style&gt;\n",
       "    &lt;script src=&quot;https://cdn.jsdelivr.net/npm/leaflet@1.9.3/dist/leaflet.js&quot;&gt;&lt;/script&gt;\n",
       "    &lt;script src=&quot;https://code.jquery.com/jquery-3.7.1.min.js&quot;&gt;&lt;/script&gt;\n",
       "    &lt;script src=&quot;https://cdn.jsdelivr.net/npm/bootstrap@5.2.2/dist/js/bootstrap.bundle.min.js&quot;&gt;&lt;/script&gt;\n",
       "    &lt;script src=&quot;https://cdnjs.cloudflare.com/ajax/libs/Leaflet.awesome-markers/2.0.2/leaflet.awesome-markers.js&quot;&gt;&lt;/script&gt;\n",
       "    &lt;link rel=&quot;stylesheet&quot; href=&quot;https://cdn.jsdelivr.net/npm/leaflet@1.9.3/dist/leaflet.css&quot;/&gt;\n",
       "    &lt;link rel=&quot;stylesheet&quot; href=&quot;https://cdn.jsdelivr.net/npm/bootstrap@5.2.2/dist/css/bootstrap.min.css&quot;/&gt;\n",
       "    &lt;link rel=&quot;stylesheet&quot; href=&quot;https://netdna.bootstrapcdn.com/bootstrap/3.0.0/css/bootstrap-glyphicons.css&quot;/&gt;\n",
       "    &lt;link rel=&quot;stylesheet&quot; href=&quot;https://cdn.jsdelivr.net/npm/@fortawesome/fontawesome-free@6.2.0/css/all.min.css&quot;/&gt;\n",
       "    &lt;link rel=&quot;stylesheet&quot; href=&quot;https://cdnjs.cloudflare.com/ajax/libs/Leaflet.awesome-markers/2.0.2/leaflet.awesome-markers.css&quot;/&gt;\n",
       "    &lt;link rel=&quot;stylesheet&quot; href=&quot;https://cdn.jsdelivr.net/gh/python-visualization/folium/folium/templates/leaflet.awesome.rotate.min.css&quot;/&gt;\n",
       "    \n",
       "            &lt;meta name=&quot;viewport&quot; content=&quot;width=device-width,\n",
       "                initial-scale=1.0, maximum-scale=1.0, user-scalable=no&quot; /&gt;\n",
       "            &lt;style&gt;\n",
       "                #map_2c5242b3839b4d2a0c527e4c8c0d03ae {\n",
       "                    position: relative;\n",
       "                    width: 100.0%;\n",
       "                    height: 100.0%;\n",
       "                    left: 0.0%;\n",
       "                    top: 0.0%;\n",
       "                }\n",
       "                .leaflet-container { font-size: 1rem; }\n",
       "            &lt;/style&gt;\n",
       "        \n",
       "&lt;/head&gt;\n",
       "&lt;body&gt;\n",
       "    \n",
       "    \n",
       "            &lt;div class=&quot;folium-map&quot; id=&quot;map_2c5242b3839b4d2a0c527e4c8c0d03ae&quot; &gt;&lt;/div&gt;\n",
       "        \n",
       "&lt;/body&gt;\n",
       "&lt;script&gt;\n",
       "    \n",
       "    \n",
       "            var map_2c5242b3839b4d2a0c527e4c8c0d03ae = L.map(\n",
       "                &quot;map_2c5242b3839b4d2a0c527e4c8c0d03ae&quot;,\n",
       "                {\n",
       "                    center: [-25.0, 135.0],\n",
       "                    crs: L.CRS.EPSG3857,\n",
       "                    zoom: 4,\n",
       "                    zoomControl: true,\n",
       "                    preferCanvas: false,\n",
       "                }\n",
       "            );\n",
       "\n",
       "            \n",
       "\n",
       "        \n",
       "    \n",
       "            var tile_layer_e4c7ee9f21d571e5b747ea3b6a393dca = L.tileLayer(\n",
       "                &quot;https://tile.openstreetmap.org/{z}/{x}/{y}.png&quot;,\n",
       "                {&quot;attribution&quot;: &quot;\\u0026copy; \\u003ca href=\\&quot;https://www.openstreetmap.org/copyright\\&quot;\\u003eOpenStreetMap\\u003c/a\\u003e contributors&quot;, &quot;detectRetina&quot;: false, &quot;maxNativeZoom&quot;: 19, &quot;maxZoom&quot;: 19, &quot;minZoom&quot;: 0, &quot;noWrap&quot;: false, &quot;opacity&quot;: 1, &quot;subdomains&quot;: &quot;abc&quot;, &quot;tms&quot;: false}\n",
       "            );\n",
       "        \n",
       "    \n",
       "            tile_layer_e4c7ee9f21d571e5b747ea3b6a393dca.addTo(map_2c5242b3839b4d2a0c527e4c8c0d03ae);\n",
       "        \n",
       "    \n",
       "            var feature_group_f65d02f6fb81d3e2a79284814d3328e7 = L.featureGroup(\n",
       "                {}\n",
       "            );\n",
       "        \n",
       "    \n",
       "            var circle_marker_042a8822b33361d2a4d64be9aee6d7e6 = L.circleMarker(\n",
       "                [-31.8759835, 147.2869493],\n",
       "                {&quot;bubblingMouseEvents&quot;: true, &quot;color&quot;: &quot;red&quot;, &quot;dashArray&quot;: null, &quot;dashOffset&quot;: null, &quot;fill&quot;: true, &quot;fillColor&quot;: &quot;blue&quot;, &quot;fillOpacity&quot;: 0.6, &quot;fillRule&quot;: &quot;evenodd&quot;, &quot;lineCap&quot;: &quot;round&quot;, &quot;lineJoin&quot;: &quot;round&quot;, &quot;opacity&quot;: 1.0, &quot;radius&quot;: 5, &quot;stroke&quot;: true, &quot;weight&quot;: 3}\n",
       "            ).addTo(feature_group_f65d02f6fb81d3e2a79284814d3328e7);\n",
       "        \n",
       "    \n",
       "        var popup_65731b781479844b43650ac1208894ea = L.popup({&quot;maxWidth&quot;: &quot;100%&quot;});\n",
       "\n",
       "        \n",
       "            \n",
       "                var html_68f9a78b497a490475b806a87852ac7b = $(`&lt;div id=&quot;html_68f9a78b497a490475b806a87852ac7b&quot; style=&quot;width: 100.0%; height: 100.0%;&quot;&gt;NSW&lt;/div&gt;`)[0];\n",
       "                popup_65731b781479844b43650ac1208894ea.setContent(html_68f9a78b497a490475b806a87852ac7b);\n",
       "            \n",
       "        \n",
       "\n",
       "        circle_marker_042a8822b33361d2a4d64be9aee6d7e6.bindPopup(popup_65731b781479844b43650ac1208894ea)\n",
       "        ;\n",
       "\n",
       "        \n",
       "    \n",
       "    \n",
       "            var circle_marker_1f25464e5eaebaa7eea9dd9996ed419a = L.circleMarker(\n",
       "                [-22.1646782, 144.5844903],\n",
       "                {&quot;bubblingMouseEvents&quot;: true, &quot;color&quot;: &quot;red&quot;, &quot;dashArray&quot;: null, &quot;dashOffset&quot;: null, &quot;fill&quot;: true, &quot;fillColor&quot;: &quot;blue&quot;, &quot;fillOpacity&quot;: 0.6, &quot;fillRule&quot;: &quot;evenodd&quot;, &quot;lineCap&quot;: &quot;round&quot;, &quot;lineJoin&quot;: &quot;round&quot;, &quot;opacity&quot;: 1.0, &quot;radius&quot;: 5, &quot;stroke&quot;: true, &quot;weight&quot;: 3}\n",
       "            ).addTo(feature_group_f65d02f6fb81d3e2a79284814d3328e7);\n",
       "        \n",
       "    \n",
       "        var popup_0fa83df67432ca0279585deb95cf1785 = L.popup({&quot;maxWidth&quot;: &quot;100%&quot;});\n",
       "\n",
       "        \n",
       "            \n",
       "                var html_3c013390ada6d9841433ba0dd567ae46 = $(`&lt;div id=&quot;html_3c013390ada6d9841433ba0dd567ae46&quot; style=&quot;width: 100.0%; height: 100.0%;&quot;&gt;QL&lt;/div&gt;`)[0];\n",
       "                popup_0fa83df67432ca0279585deb95cf1785.setContent(html_3c013390ada6d9841433ba0dd567ae46);\n",
       "            \n",
       "        \n",
       "\n",
       "        circle_marker_1f25464e5eaebaa7eea9dd9996ed419a.bindPopup(popup_0fa83df67432ca0279585deb95cf1785)\n",
       "        ;\n",
       "\n",
       "        \n",
       "    \n",
       "    \n",
       "            var circle_marker_ecd8f1999f32ee448e80e5c1a5dcc373 = L.circleMarker(\n",
       "                [-30.5343665, 135.6301212],\n",
       "                {&quot;bubblingMouseEvents&quot;: true, &quot;color&quot;: &quot;red&quot;, &quot;dashArray&quot;: null, &quot;dashOffset&quot;: null, &quot;fill&quot;: true, &quot;fillColor&quot;: &quot;blue&quot;, &quot;fillOpacity&quot;: 0.6, &quot;fillRule&quot;: &quot;evenodd&quot;, &quot;lineCap&quot;: &quot;round&quot;, &quot;lineJoin&quot;: &quot;round&quot;, &quot;opacity&quot;: 1.0, &quot;radius&quot;: 5, &quot;stroke&quot;: true, &quot;weight&quot;: 3}\n",
       "            ).addTo(feature_group_f65d02f6fb81d3e2a79284814d3328e7);\n",
       "        \n",
       "    \n",
       "        var popup_4e8b40ee93141333708b8cd4dac06b48 = L.popup({&quot;maxWidth&quot;: &quot;100%&quot;});\n",
       "\n",
       "        \n",
       "            \n",
       "                var html_1950a6460c04ce85e57671f2fb9fdb5c = $(`&lt;div id=&quot;html_1950a6460c04ce85e57671f2fb9fdb5c&quot; style=&quot;width: 100.0%; height: 100.0%;&quot;&gt;SA&lt;/div&gt;`)[0];\n",
       "                popup_4e8b40ee93141333708b8cd4dac06b48.setContent(html_1950a6460c04ce85e57671f2fb9fdb5c);\n",
       "            \n",
       "        \n",
       "\n",
       "        circle_marker_ecd8f1999f32ee448e80e5c1a5dcc373.bindPopup(popup_4e8b40ee93141333708b8cd4dac06b48)\n",
       "        ;\n",
       "\n",
       "        \n",
       "    \n",
       "    \n",
       "            var circle_marker_5b2cf878ead6bbc39b44b9291e933a01 = L.circleMarker(\n",
       "                [-42.035067, 146.6366887],\n",
       "                {&quot;bubblingMouseEvents&quot;: true, &quot;color&quot;: &quot;red&quot;, &quot;dashArray&quot;: null, &quot;dashOffset&quot;: null, &quot;fill&quot;: true, &quot;fillColor&quot;: &quot;blue&quot;, &quot;fillOpacity&quot;: 0.6, &quot;fillRule&quot;: &quot;evenodd&quot;, &quot;lineCap&quot;: &quot;round&quot;, &quot;lineJoin&quot;: &quot;round&quot;, &quot;opacity&quot;: 1.0, &quot;radius&quot;: 5, &quot;stroke&quot;: true, &quot;weight&quot;: 3}\n",
       "            ).addTo(feature_group_f65d02f6fb81d3e2a79284814d3328e7);\n",
       "        \n",
       "    \n",
       "        var popup_08ae3ab2e78f25d7d18decd818bcf8dd = L.popup({&quot;maxWidth&quot;: &quot;100%&quot;});\n",
       "\n",
       "        \n",
       "            \n",
       "                var html_f8273e9b93c33777a2208a2fcd373943 = $(`&lt;div id=&quot;html_f8273e9b93c33777a2208a2fcd373943&quot; style=&quot;width: 100.0%; height: 100.0%;&quot;&gt;TA&lt;/div&gt;`)[0];\n",
       "                popup_08ae3ab2e78f25d7d18decd818bcf8dd.setContent(html_f8273e9b93c33777a2208a2fcd373943);\n",
       "            \n",
       "        \n",
       "\n",
       "        circle_marker_5b2cf878ead6bbc39b44b9291e933a01.bindPopup(popup_08ae3ab2e78f25d7d18decd818bcf8dd)\n",
       "        ;\n",
       "\n",
       "        \n",
       "    \n",
       "    \n",
       "            var circle_marker_d97122029db03204d83a731429059844 = L.circleMarker(\n",
       "                [-36.5986096, 144.6780052],\n",
       "                {&quot;bubblingMouseEvents&quot;: true, &quot;color&quot;: &quot;red&quot;, &quot;dashArray&quot;: null, &quot;dashOffset&quot;: null, &quot;fill&quot;: true, &quot;fillColor&quot;: &quot;blue&quot;, &quot;fillOpacity&quot;: 0.6, &quot;fillRule&quot;: &quot;evenodd&quot;, &quot;lineCap&quot;: &quot;round&quot;, &quot;lineJoin&quot;: &quot;round&quot;, &quot;opacity&quot;: 1.0, &quot;radius&quot;: 5, &quot;stroke&quot;: true, &quot;weight&quot;: 3}\n",
       "            ).addTo(feature_group_f65d02f6fb81d3e2a79284814d3328e7);\n",
       "        \n",
       "    \n",
       "        var popup_e9a8657c73ba94060d9c379c22eeaf5b = L.popup({&quot;maxWidth&quot;: &quot;100%&quot;});\n",
       "\n",
       "        \n",
       "            \n",
       "                var html_2363509b83298994c0251c2f5ea7ebc8 = $(`&lt;div id=&quot;html_2363509b83298994c0251c2f5ea7ebc8&quot; style=&quot;width: 100.0%; height: 100.0%;&quot;&gt;VI&lt;/div&gt;`)[0];\n",
       "                popup_e9a8657c73ba94060d9c379c22eeaf5b.setContent(html_2363509b83298994c0251c2f5ea7ebc8);\n",
       "            \n",
       "        \n",
       "\n",
       "        circle_marker_d97122029db03204d83a731429059844.bindPopup(popup_e9a8657c73ba94060d9c379c22eeaf5b)\n",
       "        ;\n",
       "\n",
       "        \n",
       "    \n",
       "    \n",
       "            var circle_marker_5f6dece93104ebc4c1a83e7e06502da3 = L.circleMarker(\n",
       "                [-25.2303005, 121.0187246],\n",
       "                {&quot;bubblingMouseEvents&quot;: true, &quot;color&quot;: &quot;red&quot;, &quot;dashArray&quot;: null, &quot;dashOffset&quot;: null, &quot;fill&quot;: true, &quot;fillColor&quot;: &quot;blue&quot;, &quot;fillOpacity&quot;: 0.6, &quot;fillRule&quot;: &quot;evenodd&quot;, &quot;lineCap&quot;: &quot;round&quot;, &quot;lineJoin&quot;: &quot;round&quot;, &quot;opacity&quot;: 1.0, &quot;radius&quot;: 5, &quot;stroke&quot;: true, &quot;weight&quot;: 3}\n",
       "            ).addTo(feature_group_f65d02f6fb81d3e2a79284814d3328e7);\n",
       "        \n",
       "    \n",
       "        var popup_814487b6c958362889c154016e0eb3e8 = L.popup({&quot;maxWidth&quot;: &quot;100%&quot;});\n",
       "\n",
       "        \n",
       "            \n",
       "                var html_04f348324c8fe239d81f9bbd9419ab94 = $(`&lt;div id=&quot;html_04f348324c8fe239d81f9bbd9419ab94&quot; style=&quot;width: 100.0%; height: 100.0%;&quot;&gt;WA&lt;/div&gt;`)[0];\n",
       "                popup_814487b6c958362889c154016e0eb3e8.setContent(html_04f348324c8fe239d81f9bbd9419ab94);\n",
       "            \n",
       "        \n",
       "\n",
       "        circle_marker_5f6dece93104ebc4c1a83e7e06502da3.bindPopup(popup_814487b6c958362889c154016e0eb3e8)\n",
       "        ;\n",
       "\n",
       "        \n",
       "    \n",
       "    \n",
       "            var circle_marker_8de9525a1cf0b4dd7dcaa5943ae1217a = L.circleMarker(\n",
       "                [-19.491411, 132.550964],\n",
       "                {&quot;bubblingMouseEvents&quot;: true, &quot;color&quot;: &quot;red&quot;, &quot;dashArray&quot;: null, &quot;dashOffset&quot;: null, &quot;fill&quot;: true, &quot;fillColor&quot;: &quot;blue&quot;, &quot;fillOpacity&quot;: 0.6, &quot;fillRule&quot;: &quot;evenodd&quot;, &quot;lineCap&quot;: &quot;round&quot;, &quot;lineJoin&quot;: &quot;round&quot;, &quot;opacity&quot;: 1.0, &quot;radius&quot;: 5, &quot;stroke&quot;: true, &quot;weight&quot;: 3}\n",
       "            ).addTo(feature_group_f65d02f6fb81d3e2a79284814d3328e7);\n",
       "        \n",
       "    \n",
       "        var popup_e1eef738e490a566a1e8f61499dfc8b2 = L.popup({&quot;maxWidth&quot;: &quot;100%&quot;});\n",
       "\n",
       "        \n",
       "            \n",
       "                var html_42c8aa712b58ff4ed127e343fbeef565 = $(`&lt;div id=&quot;html_42c8aa712b58ff4ed127e343fbeef565&quot; style=&quot;width: 100.0%; height: 100.0%;&quot;&gt;NT&lt;/div&gt;`)[0];\n",
       "                popup_e1eef738e490a566a1e8f61499dfc8b2.setContent(html_42c8aa712b58ff4ed127e343fbeef565);\n",
       "            \n",
       "        \n",
       "\n",
       "        circle_marker_8de9525a1cf0b4dd7dcaa5943ae1217a.bindPopup(popup_e1eef738e490a566a1e8f61499dfc8b2)\n",
       "        ;\n",
       "\n",
       "        \n",
       "    \n",
       "    \n",
       "            feature_group_f65d02f6fb81d3e2a79284814d3328e7.addTo(map_2c5242b3839b4d2a0c527e4c8c0d03ae);\n",
       "        \n",
       "&lt;/script&gt;\n",
       "&lt;/html&gt;\" style=\"position:absolute;width:100%;height:100%;left:0;top:0;border:none !important;\" allowfullscreen webkitallowfullscreen mozallowfullscreen></iframe></div></div>"
      ],
      "text/plain": [
       "<folium.folium.Map at 0x15e5222f1c0>"
      ]
     },
     "execution_count": 52,
     "metadata": {},
     "output_type": "execute_result"
    }
   ],
   "source": [
    "# instantiate a feature group \n",
    "aus_reg = folium.map.FeatureGroup()\n",
    "\n",
    "# Create a Folium map centered on Australia\n",
    "Aus_map = folium.Map(location=[-25, 135], zoom_start=4)\n",
    "\n",
    "# loop through the region and add to feature group\n",
    "for lat, lng, lab in zip(reg.Lat, reg.Lon, reg.region):\n",
    "    aus_reg.add_child(\n",
    "        folium.features.CircleMarker(\n",
    "            [lat, lng],\n",
    "            popup=lab,\n",
    "            radius=5, # define how big you want the circle markers to be\n",
    "            color='red',\n",
    "            fill=True,\n",
    "            fill_color='blue',\n",
    "            fill_opacity=0.6\n",
    "        )\n",
    "    )\n",
    "\n",
    "# add incidents to map\n",
    "Aus_map.add_child(aus_reg)\n",
    "# Aus_map"
   ]
  },
  {
   "cell_type": "markdown",
   "metadata": {},
   "source": [
    "<details>\n",
    "    <summary>Click here for Solution</summary>\n",
    "\n",
    "```python\n",
    "# instantiate a feature group \n",
    "aus_reg = folium.map.FeatureGroup()\n",
    "\n",
    "# Create a Folium map centered on Australia\n",
    "Aus_map = folium.Map(location=[-25, 135], zoom_start=4)\n",
    "\n",
    "# loop through the region and add to feature group\n",
    "for lat, lng, lab in zip(reg.Lat, reg.Lon, reg.region):\n",
    "    aus_reg.add_child(\n",
    "        folium.features.CircleMarker(\n",
    "            [lat, lng],\n",
    "            popup=lab,\n",
    "            radius=5, # define how big you want the circle markers to be\n",
    "            color='red',\n",
    "            fill=True,\n",
    "            fill_color='blue',\n",
    "            fill_opacity=0.6\n",
    "        )\n",
    "    )\n",
    "\n",
    "# add incidents to map\n",
    "Aus_map.add_child(aus_reg)\n",
    "```\n",
    "</details>\n"
   ]
  },
  {
   "cell_type": "markdown",
   "metadata": {},
   "source": [
    "---\n"
   ]
  },
  {
   "cell_type": "markdown",
   "metadata": {},
   "source": [
    "# Congratulations! You have completed the lab\n"
   ]
  },
  {
   "cell_type": "markdown",
   "metadata": {},
   "source": [
    "## Authors\n"
   ]
  },
  {
   "cell_type": "markdown",
   "metadata": {},
   "source": [
    "[Dr. Pooja](author_link)\n"
   ]
  },
  {
   "cell_type": "markdown",
   "metadata": {},
   "source": [
    "#### Copyright © 2023 IBM Corporation. All rights reserved.\n",
    "```{toggle}## Change Log\n",
    "```\n"
   ]
  },
  {
   "cell_type": "markdown",
   "metadata": {},
   "source": [
    "```{toggle}|Date (YYYY-MM-DD)|Version|Changed By|Change Description|\n",
    "```\n",
    "\n",
    "```{toggle}|-|-|-|-|\n",
    "```\n",
    "```{toggle}|2023-06-281|0.2|Dr. Pooja|Initial Lab Creation|\n",
    "```\n",
    "```{toggle}|2023-05-01|0.1|Shengkai|Create Lab Template|\n",
    "```\n"
   ]
  },
  {
   "cell_type": "markdown",
   "metadata": {},
   "source": [
    "\n"
   ]
  }
 ],
 "metadata": {
  "kernelspec": {
   "display_name": "Python 3",
   "language": "python",
   "name": "python3"
  },
  "language_info": {
   "codemirror_mode": {
    "name": "ipython",
    "version": 3
   },
   "file_extension": ".py",
   "mimetype": "text/x-python",
   "name": "python",
   "nbconvert_exporter": "python",
   "pygments_lexer": "ipython3",
   "version": "3.8.5"
  },
  "prev_pub_hash": "00b475a2aa6c62e1fd5b2d6966d1e0f1905cdce9ef471f09e9dbe7cd211b749a"
 },
 "nbformat": 4,
 "nbformat_minor": 4
}
