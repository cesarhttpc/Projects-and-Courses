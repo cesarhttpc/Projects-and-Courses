{
 "cells": [
  {
   "cell_type": "markdown",
   "id": "b58b68c5-543f-4a42-8d0d-5688d55bc440",
   "metadata": {},
   "source": [
    "<center>\n",
    "    <img src=\"https://cf-courses-data.s3.us.cloud-object-storage.appdomain.cloud/IBMDeveloperSkillsNetwork-DV0101EN-SkillsNetwork/labs/Module%204/logo.png\" width=\"300\" alt=\"cognitiveclass.ai logo\">\n",
    "</center>\n",
    "\n",
    "# Waffle Charts, Word Clouds, and Regression Plots\n",
    "\n",
    "Estimated time needed: **40** minutes\n",
    "\n",
    "## Objectives\n",
    "\n",
    "After completing this lab you will be able to:\n",
    "\n",
    "*   Create Word cloud and Waffle charts\n",
    "*   Create regression plots with Seaborn library\n"
   ]
  },
  {
   "cell_type": "markdown",
   "id": "d23fa4b2-5ba6-450c-b1d4-5fa8594dfb78",
   "metadata": {},
   "source": [
    "## Table of Contents\n",
    "\n",
    "<div class=\"alert alert-block alert-info\" style=\"margin-top: 20px\">\n",
    "\n",
    "1.  [Import Libraries](#0)<br>\n",
    "2.  [Fetching Data](#1)<br>\n",
    "3.  [Waffle Charts](#3) <br>\n",
    "4.  [Word Clouds](#4) <br>\n",
    "5.  [Ploting with Seaborn](#5) <br>\n",
    "6.  [Regression Plots](#6) <br>\n",
    "\n",
    "</div>\n"
   ]
  },
  {
   "cell_type": "markdown",
   "id": "b6832825-8e8b-4597-b6ee-f4f71227cbde",
   "metadata": {},
   "source": [
    "# Import Libraries<a id=\"0\"></a>\n"
   ]
  },
  {
   "cell_type": "code",
   "execution_count": 1,
   "id": "cf824a13-a954-4039-9e40-01c5854b441d",
   "metadata": {},
   "outputs": [
    {
     "name": "stderr",
     "output_type": "stream",
     "text": [
      "\n",
      "[notice] A new release of pip is available: 24.0 -> 24.3.1\n",
      "[notice] To update, run: python.exe -m pip install --upgrade pip\n"
     ]
    },
    {
     "name": "stdout",
     "output_type": "stream",
     "text": [
      "Requirement already satisfied: seaborn in c:\\users\\ce_ra\\appdata\\local\\programs\\python\\python39\\lib\\site-packages (0.12.2)\n",
      "Collecting wordcloud\n",
      "  Downloading wordcloud-1.9.4-cp39-cp39-win_amd64.whl.metadata (3.5 kB)\n",
      "Requirement already satisfied: numpy!=1.24.0,>=1.17 in c:\\users\\ce_ra\\appdata\\local\\programs\\python\\python39\\lib\\site-packages (from seaborn) (1.22.4)\n",
      "Requirement already satisfied: pandas>=0.25 in c:\\users\\ce_ra\\appdata\\local\\programs\\python\\python39\\lib\\site-packages (from seaborn) (1.3.3)\n",
      "Requirement already satisfied: matplotlib!=3.6.1,>=3.1 in c:\\users\\ce_ra\\appdata\\local\\programs\\python\\python39\\lib\\site-packages (from seaborn) (3.5.1)\n",
      "Requirement already satisfied: pillow in c:\\users\\ce_ra\\appdata\\local\\programs\\python\\python39\\lib\\site-packages (from wordcloud) (9.0.0)\n",
      "Requirement already satisfied: cycler>=0.10 in c:\\users\\ce_ra\\appdata\\local\\programs\\python\\python39\\lib\\site-packages (from matplotlib!=3.6.1,>=3.1->seaborn) (0.11.0)\n",
      "Requirement already satisfied: fonttools>=4.22.0 in c:\\users\\ce_ra\\appdata\\local\\programs\\python\\python39\\lib\\site-packages (from matplotlib!=3.6.1,>=3.1->seaborn) (4.29.0)\n",
      "Requirement already satisfied: kiwisolver>=1.0.1 in c:\\users\\ce_ra\\appdata\\local\\programs\\python\\python39\\lib\\site-packages (from matplotlib!=3.6.1,>=3.1->seaborn) (1.3.2)\n",
      "Requirement already satisfied: packaging>=20.0 in c:\\users\\ce_ra\\appdata\\local\\programs\\python\\python39\\lib\\site-packages (from matplotlib!=3.6.1,>=3.1->seaborn) (21.3)\n",
      "Requirement already satisfied: pyparsing>=2.2.1 in c:\\users\\ce_ra\\appdata\\local\\programs\\python\\python39\\lib\\site-packages (from matplotlib!=3.6.1,>=3.1->seaborn) (3.0.7)\n",
      "Requirement already satisfied: python-dateutil>=2.7 in c:\\users\\ce_ra\\appdata\\local\\programs\\python\\python39\\lib\\site-packages (from matplotlib!=3.6.1,>=3.1->seaborn) (2.8.2)\n",
      "Requirement already satisfied: pytz>=2017.3 in c:\\users\\ce_ra\\appdata\\local\\programs\\python\\python39\\lib\\site-packages (from pandas>=0.25->seaborn) (2024.2)\n",
      "Requirement already satisfied: six>=1.5 in c:\\users\\ce_ra\\appdata\\local\\programs\\python\\python39\\lib\\site-packages (from python-dateutil>=2.7->matplotlib!=3.6.1,>=3.1->seaborn) (1.16.0)\n",
      "Downloading wordcloud-1.9.4-cp39-cp39-win_amd64.whl (300 kB)\n",
      "   ---------------------------------------- 0.0/300.4 kB ? eta -:--:--\n",
      "   --------- ------------------------------ 71.7/300.4 kB 1.3 MB/s eta 0:00:01\n",
      "   ------------------------------ --------- 225.3/300.4 kB 2.7 MB/s eta 0:00:01\n",
      "   ---------------------------------------- 300.4/300.4 kB 2.6 MB/s eta 0:00:00\n",
      "Installing collected packages: wordcloud\n",
      "Successfully installed wordcloud-1.9.4\n",
      "Matplotlib version:  3.5.1\n",
      "Seaborn version:  0.12.2\n",
      "WordCloud version:  1.9.4\n"
     ]
    }
   ],
   "source": [
    "#Import and setup matplotlib:\n",
    "%matplotlib inline\n",
    "\n",
    "import matplotlib as mpl\n",
    "import matplotlib.pyplot as plt\n",
    "import matplotlib.patches as mpatches # needed for waffle Charts\n",
    "\n",
    "mpl.style.use('ggplot') # optional: for ggplot-like style\n",
    "\n",
    "#Import Primary Modules:\n",
    "import numpy as np  # useful for many scientific computing in Python\n",
    "import pandas as pd # primary data structure library\n",
    "from PIL import Image # converting images into arrays\n",
    "\n",
    "#install seaborn and wordcloud\n",
    "!pip install seaborn wordcloud \n",
    "\n",
    "#import seaborn\n",
    "import seaborn as sns\n",
    "\n",
    "#import wordcloud\n",
    "import wordcloud\n",
    "\n",
    "# check for latest version of Matplotlib and seaborn\n",
    "print ('Matplotlib version: ', mpl.__version__) # >= 2.0.0\n",
    "print('Seaborn version: ', sns.__version__)\n",
    "print('WordCloud version: ', wordcloud.__version__)"
   ]
  },
  {
   "cell_type": "markdown",
   "id": "dabaac36-d071-4829-ab42-fbba0736df42",
   "metadata": {},
   "source": [
    "# Fetching Data<a id=\"1\"></a>\n",
    "\n",
    "Toolkits: The course heavily relies on [*pandas*](http://pandas.pydata.org/?utm_medium=Exinfluencer&utm_source=Exinfluencer&utm_content=000026UJ&utm_term=10006555&utm_id=NA-SkillsNetwork-Channel-SkillsNetworkCoursesIBMDeveloperSkillsNetworkDV0101ENSkillsNetwork20297740-2021-01-01) and [*Numpy*](http://www.numpy.org/?utm_medium=Exinfluencer&utm_source=Exinfluencer&utm_content=000026UJ&utm_term=10006555&utm_id=NA-SkillsNetwork-Channel-SkillsNetworkCoursesIBMDeveloperSkillsNetworkDV0101ENSkillsNetwork20297740-2021-01-01) for data wrangling, analysis, and visualization. The primary plotting library we will explore in the course is [Matplotlib](http://matplotlib.org/?utm_medium=Exinfluencer&utm_source=Exinfluencer&utm_content=000026UJ&utm_term=10006555&utm_id=NA-SkillsNetwork-Channel-SkillsNetworkCoursesIBMDeveloperSkillsNetworkDV0101ENSkillsNetwork20297740-2021-01-01).\n",
    "\n",
    "Dataset: Immigration to Canada from 1980 to 2013 - [International migration flows to and from selected countries - The 2015 revision](https://www.un.org/development/desa/pd/data/international-migration-flows) from United Nation's website\n",
    "\n",
    "The dataset contains annual data on the flows of international migrants as recorded by the countries of destination. The data presents both inflows and outflows according to the place of birth, citizenship or place of previous / next residence both for foreigners and nationals. <br><br>In this lab, we will focus on the Canadian Immigration data and use the *already cleaned dataset*.<br><br>\n",
    "You can refer to the lab on data pre-processing wherein this dataset is cleaned for a quick refresh your Panads skill [Data pre-processing with Pandas](https://cf-courses-data.s3.us.cloud-object-storage.appdomain.cloud/IBMDeveloperSkillsNetwork-DV0101EN-SkillsNetwork/labs/v4/DV0101EN-Exercise-Dataset-Preprocessing-Exploring-with-Pandas.ipynb)\n",
    "\n"
   ]
  },
  {
   "cell_type": "markdown",
   "id": "eb0ea64e-4d03-4ee7-93e3-5ce59b8488cc",
   "metadata": {},
   "source": [
    "Download the Canadian Immigration dataset and read it into a *pandas* dataframe.\n"
   ]
  },
  {
   "cell_type": "code",
   "execution_count": 2,
   "id": "2c4037e9-3682-434d-83c5-d639d4fd4af3",
   "metadata": {},
   "outputs": [
    {
     "name": "stdout",
     "output_type": "stream",
     "text": [
      "Data read into a pandas dataframe!\n"
     ]
    }
   ],
   "source": [
    "df_can = pd.read_csv('https://cf-courses-data.s3.us.cloud-object-storage.appdomain.cloud/IBMDeveloperSkillsNetwork-DV0101EN-SkillsNetwork/Data%20Files/Canada.csv')\n",
    "\n",
    "print('Data read into a pandas dataframe!')"
   ]
  },
  {
   "cell_type": "markdown",
   "id": "aae5bbbf-2df7-47c3-b004-7caca4eaa8ba",
   "metadata": {},
   "source": [
    "Let's take a look at the first five items in our dataset\n"
   ]
  },
  {
   "cell_type": "code",
   "execution_count": 3,
   "id": "f55a6dc2-66a5-4534-9bcc-1c93d711f1d5",
   "metadata": {},
   "outputs": [
    {
     "data": {
      "text/html": [
       "<div>\n",
       "<style scoped>\n",
       "    .dataframe tbody tr th:only-of-type {\n",
       "        vertical-align: middle;\n",
       "    }\n",
       "\n",
       "    .dataframe tbody tr th {\n",
       "        vertical-align: top;\n",
       "    }\n",
       "\n",
       "    .dataframe thead th {\n",
       "        text-align: right;\n",
       "    }\n",
       "</style>\n",
       "<table border=\"1\" class=\"dataframe\">\n",
       "  <thead>\n",
       "    <tr style=\"text-align: right;\">\n",
       "      <th></th>\n",
       "      <th>Country</th>\n",
       "      <th>Continent</th>\n",
       "      <th>Region</th>\n",
       "      <th>DevName</th>\n",
       "      <th>1980</th>\n",
       "      <th>1981</th>\n",
       "      <th>1982</th>\n",
       "      <th>1983</th>\n",
       "      <th>1984</th>\n",
       "      <th>1985</th>\n",
       "      <th>...</th>\n",
       "      <th>2005</th>\n",
       "      <th>2006</th>\n",
       "      <th>2007</th>\n",
       "      <th>2008</th>\n",
       "      <th>2009</th>\n",
       "      <th>2010</th>\n",
       "      <th>2011</th>\n",
       "      <th>2012</th>\n",
       "      <th>2013</th>\n",
       "      <th>Total</th>\n",
       "    </tr>\n",
       "  </thead>\n",
       "  <tbody>\n",
       "    <tr>\n",
       "      <th>0</th>\n",
       "      <td>Afghanistan</td>\n",
       "      <td>Asia</td>\n",
       "      <td>Southern Asia</td>\n",
       "      <td>Developing regions</td>\n",
       "      <td>16</td>\n",
       "      <td>39</td>\n",
       "      <td>39</td>\n",
       "      <td>47</td>\n",
       "      <td>71</td>\n",
       "      <td>340</td>\n",
       "      <td>...</td>\n",
       "      <td>3436</td>\n",
       "      <td>3009</td>\n",
       "      <td>2652</td>\n",
       "      <td>2111</td>\n",
       "      <td>1746</td>\n",
       "      <td>1758</td>\n",
       "      <td>2203</td>\n",
       "      <td>2635</td>\n",
       "      <td>2004</td>\n",
       "      <td>58639</td>\n",
       "    </tr>\n",
       "    <tr>\n",
       "      <th>1</th>\n",
       "      <td>Albania</td>\n",
       "      <td>Europe</td>\n",
       "      <td>Southern Europe</td>\n",
       "      <td>Developed regions</td>\n",
       "      <td>1</td>\n",
       "      <td>0</td>\n",
       "      <td>0</td>\n",
       "      <td>0</td>\n",
       "      <td>0</td>\n",
       "      <td>0</td>\n",
       "      <td>...</td>\n",
       "      <td>1223</td>\n",
       "      <td>856</td>\n",
       "      <td>702</td>\n",
       "      <td>560</td>\n",
       "      <td>716</td>\n",
       "      <td>561</td>\n",
       "      <td>539</td>\n",
       "      <td>620</td>\n",
       "      <td>603</td>\n",
       "      <td>15699</td>\n",
       "    </tr>\n",
       "    <tr>\n",
       "      <th>2</th>\n",
       "      <td>Algeria</td>\n",
       "      <td>Africa</td>\n",
       "      <td>Northern Africa</td>\n",
       "      <td>Developing regions</td>\n",
       "      <td>80</td>\n",
       "      <td>67</td>\n",
       "      <td>71</td>\n",
       "      <td>69</td>\n",
       "      <td>63</td>\n",
       "      <td>44</td>\n",
       "      <td>...</td>\n",
       "      <td>3626</td>\n",
       "      <td>4807</td>\n",
       "      <td>3623</td>\n",
       "      <td>4005</td>\n",
       "      <td>5393</td>\n",
       "      <td>4752</td>\n",
       "      <td>4325</td>\n",
       "      <td>3774</td>\n",
       "      <td>4331</td>\n",
       "      <td>69439</td>\n",
       "    </tr>\n",
       "    <tr>\n",
       "      <th>3</th>\n",
       "      <td>American Samoa</td>\n",
       "      <td>Oceania</td>\n",
       "      <td>Polynesia</td>\n",
       "      <td>Developing regions</td>\n",
       "      <td>0</td>\n",
       "      <td>1</td>\n",
       "      <td>0</td>\n",
       "      <td>0</td>\n",
       "      <td>0</td>\n",
       "      <td>0</td>\n",
       "      <td>...</td>\n",
       "      <td>0</td>\n",
       "      <td>1</td>\n",
       "      <td>0</td>\n",
       "      <td>0</td>\n",
       "      <td>0</td>\n",
       "      <td>0</td>\n",
       "      <td>0</td>\n",
       "      <td>0</td>\n",
       "      <td>0</td>\n",
       "      <td>6</td>\n",
       "    </tr>\n",
       "    <tr>\n",
       "      <th>4</th>\n",
       "      <td>Andorra</td>\n",
       "      <td>Europe</td>\n",
       "      <td>Southern Europe</td>\n",
       "      <td>Developed regions</td>\n",
       "      <td>0</td>\n",
       "      <td>0</td>\n",
       "      <td>0</td>\n",
       "      <td>0</td>\n",
       "      <td>0</td>\n",
       "      <td>0</td>\n",
       "      <td>...</td>\n",
       "      <td>0</td>\n",
       "      <td>1</td>\n",
       "      <td>1</td>\n",
       "      <td>0</td>\n",
       "      <td>0</td>\n",
       "      <td>0</td>\n",
       "      <td>0</td>\n",
       "      <td>1</td>\n",
       "      <td>1</td>\n",
       "      <td>15</td>\n",
       "    </tr>\n",
       "  </tbody>\n",
       "</table>\n",
       "<p>5 rows × 39 columns</p>\n",
       "</div>"
      ],
      "text/plain": [
       "          Country Continent           Region             DevName  1980  1981  \\\n",
       "0     Afghanistan      Asia    Southern Asia  Developing regions    16    39   \n",
       "1         Albania    Europe  Southern Europe   Developed regions     1     0   \n",
       "2         Algeria    Africa  Northern Africa  Developing regions    80    67   \n",
       "3  American Samoa   Oceania        Polynesia  Developing regions     0     1   \n",
       "4         Andorra    Europe  Southern Europe   Developed regions     0     0   \n",
       "\n",
       "   1982  1983  1984  1985  ...  2005  2006  2007  2008  2009  2010  2011  \\\n",
       "0    39    47    71   340  ...  3436  3009  2652  2111  1746  1758  2203   \n",
       "1     0     0     0     0  ...  1223   856   702   560   716   561   539   \n",
       "2    71    69    63    44  ...  3626  4807  3623  4005  5393  4752  4325   \n",
       "3     0     0     0     0  ...     0     1     0     0     0     0     0   \n",
       "4     0     0     0     0  ...     0     1     1     0     0     0     0   \n",
       "\n",
       "   2012  2013  Total  \n",
       "0  2635  2004  58639  \n",
       "1   620   603  15699  \n",
       "2  3774  4331  69439  \n",
       "3     0     0      6  \n",
       "4     1     1     15  \n",
       "\n",
       "[5 rows x 39 columns]"
      ]
     },
     "execution_count": 3,
     "metadata": {},
     "output_type": "execute_result"
    }
   ],
   "source": [
    "df_can.head()"
   ]
  },
  {
   "cell_type": "markdown",
   "id": "74d444cf-a43a-43e0-9fd2-de99ca061bc8",
   "metadata": {},
   "source": [
    "Let's find out how many entries there are in our dataset\n"
   ]
  },
  {
   "cell_type": "code",
   "execution_count": 4,
   "id": "fb8f59d4-000e-49d8-8069-1bc9c7f8bb7f",
   "metadata": {},
   "outputs": [
    {
     "name": "stdout",
     "output_type": "stream",
     "text": [
      "(195, 39)\n"
     ]
    }
   ],
   "source": [
    "# print the dimensions of the dataframe\n",
    "print(df_can.shape)"
   ]
  },
  {
   "cell_type": "code",
   "execution_count": 5,
   "id": "11b086b5-1e1f-4096-ba0b-f767d09eab43",
   "metadata": {},
   "outputs": [],
   "source": [
    "#set Country as index\n",
    "df_can.set_index('Country', inplace=True)"
   ]
  },
  {
   "cell_type": "markdown",
   "id": "5fc0ae9a-bf0d-4fe5-b5af-944611a697ce",
   "metadata": {},
   "source": [
    "# Waffle Charts <a id=\"3\"></a>\n",
    "\n",
    "A `waffle chart` is an interesting visualization that is normally created to display progress toward goals. It is commonly an effective option when you are trying to add interesting visualization features to a visual that consists mainly of cells, such as an Excel dashboard.\n"
   ]
  },
  {
   "cell_type": "markdown",
   "id": "33fd2d9c-a4f2-4dec-a8c7-c91405a04d68",
   "metadata": {},
   "source": [
    "Let's revisit the previous case study about Denmark, Norway, and Sweden.\n"
   ]
  },
  {
   "cell_type": "code",
   "execution_count": 6,
   "id": "a13ec1b5-8c29-4aac-bc7b-f3f65b9d5fbd",
   "metadata": {},
   "outputs": [
    {
     "data": {
      "text/html": [
       "<div>\n",
       "<style scoped>\n",
       "    .dataframe tbody tr th:only-of-type {\n",
       "        vertical-align: middle;\n",
       "    }\n",
       "\n",
       "    .dataframe tbody tr th {\n",
       "        vertical-align: top;\n",
       "    }\n",
       "\n",
       "    .dataframe thead th {\n",
       "        text-align: right;\n",
       "    }\n",
       "</style>\n",
       "<table border=\"1\" class=\"dataframe\">\n",
       "  <thead>\n",
       "    <tr style=\"text-align: right;\">\n",
       "      <th></th>\n",
       "      <th>Continent</th>\n",
       "      <th>Region</th>\n",
       "      <th>DevName</th>\n",
       "      <th>1980</th>\n",
       "      <th>1981</th>\n",
       "      <th>1982</th>\n",
       "      <th>1983</th>\n",
       "      <th>1984</th>\n",
       "      <th>1985</th>\n",
       "      <th>1986</th>\n",
       "      <th>...</th>\n",
       "      <th>2005</th>\n",
       "      <th>2006</th>\n",
       "      <th>2007</th>\n",
       "      <th>2008</th>\n",
       "      <th>2009</th>\n",
       "      <th>2010</th>\n",
       "      <th>2011</th>\n",
       "      <th>2012</th>\n",
       "      <th>2013</th>\n",
       "      <th>Total</th>\n",
       "    </tr>\n",
       "    <tr>\n",
       "      <th>Country</th>\n",
       "      <th></th>\n",
       "      <th></th>\n",
       "      <th></th>\n",
       "      <th></th>\n",
       "      <th></th>\n",
       "      <th></th>\n",
       "      <th></th>\n",
       "      <th></th>\n",
       "      <th></th>\n",
       "      <th></th>\n",
       "      <th></th>\n",
       "      <th></th>\n",
       "      <th></th>\n",
       "      <th></th>\n",
       "      <th></th>\n",
       "      <th></th>\n",
       "      <th></th>\n",
       "      <th></th>\n",
       "      <th></th>\n",
       "      <th></th>\n",
       "      <th></th>\n",
       "    </tr>\n",
       "  </thead>\n",
       "  <tbody>\n",
       "    <tr>\n",
       "      <th>Denmark</th>\n",
       "      <td>Europe</td>\n",
       "      <td>Northern Europe</td>\n",
       "      <td>Developed regions</td>\n",
       "      <td>272</td>\n",
       "      <td>293</td>\n",
       "      <td>299</td>\n",
       "      <td>106</td>\n",
       "      <td>93</td>\n",
       "      <td>73</td>\n",
       "      <td>93</td>\n",
       "      <td>...</td>\n",
       "      <td>62</td>\n",
       "      <td>101</td>\n",
       "      <td>97</td>\n",
       "      <td>108</td>\n",
       "      <td>81</td>\n",
       "      <td>92</td>\n",
       "      <td>93</td>\n",
       "      <td>94</td>\n",
       "      <td>81</td>\n",
       "      <td>3901</td>\n",
       "    </tr>\n",
       "    <tr>\n",
       "      <th>Norway</th>\n",
       "      <td>Europe</td>\n",
       "      <td>Northern Europe</td>\n",
       "      <td>Developed regions</td>\n",
       "      <td>116</td>\n",
       "      <td>77</td>\n",
       "      <td>106</td>\n",
       "      <td>51</td>\n",
       "      <td>31</td>\n",
       "      <td>54</td>\n",
       "      <td>56</td>\n",
       "      <td>...</td>\n",
       "      <td>57</td>\n",
       "      <td>53</td>\n",
       "      <td>73</td>\n",
       "      <td>66</td>\n",
       "      <td>75</td>\n",
       "      <td>46</td>\n",
       "      <td>49</td>\n",
       "      <td>53</td>\n",
       "      <td>59</td>\n",
       "      <td>2327</td>\n",
       "    </tr>\n",
       "    <tr>\n",
       "      <th>Sweden</th>\n",
       "      <td>Europe</td>\n",
       "      <td>Northern Europe</td>\n",
       "      <td>Developed regions</td>\n",
       "      <td>281</td>\n",
       "      <td>308</td>\n",
       "      <td>222</td>\n",
       "      <td>176</td>\n",
       "      <td>128</td>\n",
       "      <td>158</td>\n",
       "      <td>187</td>\n",
       "      <td>...</td>\n",
       "      <td>205</td>\n",
       "      <td>139</td>\n",
       "      <td>193</td>\n",
       "      <td>165</td>\n",
       "      <td>167</td>\n",
       "      <td>159</td>\n",
       "      <td>134</td>\n",
       "      <td>140</td>\n",
       "      <td>140</td>\n",
       "      <td>5866</td>\n",
       "    </tr>\n",
       "  </tbody>\n",
       "</table>\n",
       "<p>3 rows × 38 columns</p>\n",
       "</div>"
      ],
      "text/plain": [
       "        Continent           Region            DevName  1980  1981  1982  1983  \\\n",
       "Country                                                                         \n",
       "Denmark    Europe  Northern Europe  Developed regions   272   293   299   106   \n",
       "Norway     Europe  Northern Europe  Developed regions   116    77   106    51   \n",
       "Sweden     Europe  Northern Europe  Developed regions   281   308   222   176   \n",
       "\n",
       "         1984  1985  1986  ...  2005  2006  2007  2008  2009  2010  2011  \\\n",
       "Country                    ...                                             \n",
       "Denmark    93    73    93  ...    62   101    97   108    81    92    93   \n",
       "Norway     31    54    56  ...    57    53    73    66    75    46    49   \n",
       "Sweden    128   158   187  ...   205   139   193   165   167   159   134   \n",
       "\n",
       "         2012  2013  Total  \n",
       "Country                     \n",
       "Denmark    94    81   3901  \n",
       "Norway     53    59   2327  \n",
       "Sweden    140   140   5866  \n",
       "\n",
       "[3 rows x 38 columns]"
      ]
     },
     "execution_count": 6,
     "metadata": {},
     "output_type": "execute_result"
    }
   ],
   "source": [
    "# let's create a new dataframe for these three countries \n",
    "df_dsn = df_can.loc[['Denmark', 'Norway', 'Sweden'], :]\n",
    "\n",
    "# let's take a look at our dataframe\n",
    "df_dsn"
   ]
  },
  {
   "cell_type": "markdown",
   "id": "60bb5c1f-68e5-41f2-8b26-06c268f45cc5",
   "metadata": {},
   "source": [
    "Unfortunately, unlike R, `waffle` charts are not built into any of the Python visualization libraries. Therefore, we will learn how to create them from scratch.\n"
   ]
  },
  {
   "cell_type": "markdown",
   "id": "c07bc79e-6b36-488d-b83e-bcd60c984a13",
   "metadata": {},
   "source": [
    "**Step 1.** The first step into creating a waffle chart is determing the proportion of each category with respect to the total.\n"
   ]
  },
  {
   "cell_type": "code",
   "execution_count": 7,
   "id": "3e79f748-a1e2-4e62-a786-29d064082088",
   "metadata": {},
   "outputs": [
    {
     "data": {
      "text/html": [
       "<div>\n",
       "<style scoped>\n",
       "    .dataframe tbody tr th:only-of-type {\n",
       "        vertical-align: middle;\n",
       "    }\n",
       "\n",
       "    .dataframe tbody tr th {\n",
       "        vertical-align: top;\n",
       "    }\n",
       "\n",
       "    .dataframe thead th {\n",
       "        text-align: right;\n",
       "    }\n",
       "</style>\n",
       "<table border=\"1\" class=\"dataframe\">\n",
       "  <thead>\n",
       "    <tr style=\"text-align: right;\">\n",
       "      <th></th>\n",
       "      <th>Category Proportion</th>\n",
       "    </tr>\n",
       "    <tr>\n",
       "      <th>Country</th>\n",
       "      <th></th>\n",
       "    </tr>\n",
       "  </thead>\n",
       "  <tbody>\n",
       "    <tr>\n",
       "      <th>Denmark</th>\n",
       "      <td>0.322557</td>\n",
       "    </tr>\n",
       "    <tr>\n",
       "      <th>Norway</th>\n",
       "      <td>0.192409</td>\n",
       "    </tr>\n",
       "    <tr>\n",
       "      <th>Sweden</th>\n",
       "      <td>0.485034</td>\n",
       "    </tr>\n",
       "  </tbody>\n",
       "</table>\n",
       "</div>"
      ],
      "text/plain": [
       "         Category Proportion\n",
       "Country                     \n",
       "Denmark             0.322557\n",
       "Norway              0.192409\n",
       "Sweden              0.485034"
      ]
     },
     "execution_count": 7,
     "metadata": {},
     "output_type": "execute_result"
    }
   ],
   "source": [
    "# compute the proportion of each category with respect to the total\n",
    "total_values = df_dsn['Total'].sum()\n",
    "category_proportions = df_dsn['Total'] / total_values\n",
    "\n",
    "# print out proportions\n",
    "pd.DataFrame({\"Category Proportion\": category_proportions})"
   ]
  },
  {
   "cell_type": "markdown",
   "id": "6ccdc105-c8cc-46d0-9813-3ce3103ed64c",
   "metadata": {},
   "source": [
    "**Step 2.** The second step is defining the overall size of the `waffle` chart.\n"
   ]
  },
  {
   "cell_type": "code",
   "execution_count": 8,
   "id": "8df89fe5-16d9-43a5-a52d-1a5032167a5a",
   "metadata": {},
   "outputs": [
    {
     "name": "stdout",
     "output_type": "stream",
     "text": [
      "Total number of tiles is 400.\n"
     ]
    }
   ],
   "source": [
    "width = 40 # width of chart\n",
    "height = 10 # height of chart\n",
    "\n",
    "total_num_tiles = width * height # total number of tiles\n",
    "\n",
    "print(f'Total number of tiles is {total_num_tiles}.')"
   ]
  },
  {
   "cell_type": "markdown",
   "id": "8b94de4a-86b8-4b92-8ea6-142b207b03c3",
   "metadata": {},
   "source": [
    "**Step 3.** The third step is using the proportion of each category to determe it respective number of tiles\n"
   ]
  },
  {
   "cell_type": "code",
   "execution_count": 9,
   "id": "bfe08906-14bd-461c-93f8-cb62f79721e8",
   "metadata": {},
   "outputs": [
    {
     "data": {
      "text/html": [
       "<div>\n",
       "<style scoped>\n",
       "    .dataframe tbody tr th:only-of-type {\n",
       "        vertical-align: middle;\n",
       "    }\n",
       "\n",
       "    .dataframe tbody tr th {\n",
       "        vertical-align: top;\n",
       "    }\n",
       "\n",
       "    .dataframe thead th {\n",
       "        text-align: right;\n",
       "    }\n",
       "</style>\n",
       "<table border=\"1\" class=\"dataframe\">\n",
       "  <thead>\n",
       "    <tr style=\"text-align: right;\">\n",
       "      <th></th>\n",
       "      <th>Number of tiles</th>\n",
       "    </tr>\n",
       "    <tr>\n",
       "      <th>Country</th>\n",
       "      <th></th>\n",
       "    </tr>\n",
       "  </thead>\n",
       "  <tbody>\n",
       "    <tr>\n",
       "      <th>Denmark</th>\n",
       "      <td>129</td>\n",
       "    </tr>\n",
       "    <tr>\n",
       "      <th>Norway</th>\n",
       "      <td>77</td>\n",
       "    </tr>\n",
       "    <tr>\n",
       "      <th>Sweden</th>\n",
       "      <td>194</td>\n",
       "    </tr>\n",
       "  </tbody>\n",
       "</table>\n",
       "</div>"
      ],
      "text/plain": [
       "         Number of tiles\n",
       "Country                 \n",
       "Denmark              129\n",
       "Norway                77\n",
       "Sweden               194"
      ]
     },
     "execution_count": 9,
     "metadata": {},
     "output_type": "execute_result"
    }
   ],
   "source": [
    "# compute the number of tiles for each category\n",
    "tiles_per_category = (category_proportions * total_num_tiles).round().astype(int)\n",
    "\n",
    "# print out number of tiles per category\n",
    "pd.DataFrame({\"Number of tiles\": tiles_per_category})"
   ]
  },
  {
   "cell_type": "markdown",
   "id": "8bddac4e-9ec7-47bd-a26c-718a16038157",
   "metadata": {},
   "source": [
    "Based on the calculated proportions, Denmark will occupy 129 tiles of the `waffle` chart, Norway will occupy 77 tiles, and Sweden will occupy 194 tiles.\n"
   ]
  },
  {
   "cell_type": "markdown",
   "id": "edf13af4-c9d6-4bfa-9a94-7a1b853ebb87",
   "metadata": {},
   "source": [
    "**Step 4.** The fourth step is creating a matrix that resembles the `waffle` chart and populating it.\n"
   ]
  },
  {
   "cell_type": "code",
   "execution_count": 10,
   "id": "7b6890db-c20d-4237-9d5c-d72d4abdbabe",
   "metadata": {},
   "outputs": [
    {
     "name": "stdout",
     "output_type": "stream",
     "text": [
      "Waffle chart populated!\n"
     ]
    }
   ],
   "source": [
    "# initialize the waffle chart as an empty matrix\n",
    "waffle_chart = np.zeros((height, width), dtype = np.uint)\n",
    "\n",
    "# define indices to loop through waffle chart\n",
    "category_index = 0\n",
    "tile_index = 0\n",
    "\n",
    "# populate the waffle chart\n",
    "for col in range(width):\n",
    "    for row in range(height):\n",
    "        tile_index += 1\n",
    "\n",
    "        # if the number of tiles populated for the current category is equal to its corresponding allocated tiles...\n",
    "        if tile_index > sum(tiles_per_category[0:category_index]):\n",
    "            # ...proceed to the next category\n",
    "            category_index += 1       \n",
    "            \n",
    "        # set the class value to an integer, which increases with class\n",
    "        waffle_chart[row, col] = category_index\n",
    "        \n",
    "print ('Waffle chart populated!')"
   ]
  },
  {
   "cell_type": "markdown",
   "id": "69a97e06-6125-4cf4-b3b6-8db3d9fa4aa0",
   "metadata": {},
   "source": [
    "Let's take a peek at how the matrix looks like.\n"
   ]
  },
  {
   "cell_type": "code",
   "execution_count": 11,
   "id": "bc723332-311b-4631-9702-f9313f3a9ffa",
   "metadata": {},
   "outputs": [
    {
     "data": {
      "text/plain": [
       "array([[1, 1, 1, 1, 1, 1, 1, 1, 1, 1, 1, 1, 1, 2, 2, 2, 2, 2, 2, 2, 2, 3,\n",
       "        3, 3, 3, 3, 3, 3, 3, 3, 3, 3, 3, 3, 3, 3, 3, 3, 3, 3],\n",
       "       [1, 1, 1, 1, 1, 1, 1, 1, 1, 1, 1, 1, 1, 2, 2, 2, 2, 2, 2, 2, 2, 3,\n",
       "        3, 3, 3, 3, 3, 3, 3, 3, 3, 3, 3, 3, 3, 3, 3, 3, 3, 3],\n",
       "       [1, 1, 1, 1, 1, 1, 1, 1, 1, 1, 1, 1, 1, 2, 2, 2, 2, 2, 2, 2, 2, 3,\n",
       "        3, 3, 3, 3, 3, 3, 3, 3, 3, 3, 3, 3, 3, 3, 3, 3, 3, 3],\n",
       "       [1, 1, 1, 1, 1, 1, 1, 1, 1, 1, 1, 1, 1, 2, 2, 2, 2, 2, 2, 2, 2, 3,\n",
       "        3, 3, 3, 3, 3, 3, 3, 3, 3, 3, 3, 3, 3, 3, 3, 3, 3, 3],\n",
       "       [1, 1, 1, 1, 1, 1, 1, 1, 1, 1, 1, 1, 1, 2, 2, 2, 2, 2, 2, 2, 2, 3,\n",
       "        3, 3, 3, 3, 3, 3, 3, 3, 3, 3, 3, 3, 3, 3, 3, 3, 3, 3],\n",
       "       [1, 1, 1, 1, 1, 1, 1, 1, 1, 1, 1, 1, 1, 2, 2, 2, 2, 2, 2, 2, 2, 3,\n",
       "        3, 3, 3, 3, 3, 3, 3, 3, 3, 3, 3, 3, 3, 3, 3, 3, 3, 3],\n",
       "       [1, 1, 1, 1, 1, 1, 1, 1, 1, 1, 1, 1, 1, 2, 2, 2, 2, 2, 2, 2, 3, 3,\n",
       "        3, 3, 3, 3, 3, 3, 3, 3, 3, 3, 3, 3, 3, 3, 3, 3, 3, 3],\n",
       "       [1, 1, 1, 1, 1, 1, 1, 1, 1, 1, 1, 1, 1, 2, 2, 2, 2, 2, 2, 2, 3, 3,\n",
       "        3, 3, 3, 3, 3, 3, 3, 3, 3, 3, 3, 3, 3, 3, 3, 3, 3, 3],\n",
       "       [1, 1, 1, 1, 1, 1, 1, 1, 1, 1, 1, 1, 1, 2, 2, 2, 2, 2, 2, 2, 3, 3,\n",
       "        3, 3, 3, 3, 3, 3, 3, 3, 3, 3, 3, 3, 3, 3, 3, 3, 3, 3],\n",
       "       [1, 1, 1, 1, 1, 1, 1, 1, 1, 1, 1, 1, 2, 2, 2, 2, 2, 2, 2, 2, 3, 3,\n",
       "        3, 3, 3, 3, 3, 3, 3, 3, 3, 3, 3, 3, 3, 3, 3, 3, 3, 3]],\n",
       "      dtype=uint32)"
      ]
     },
     "execution_count": 11,
     "metadata": {},
     "output_type": "execute_result"
    }
   ],
   "source": [
    "waffle_chart"
   ]
  },
  {
   "cell_type": "markdown",
   "id": "16e94695-68e3-4f8e-b911-4ee12e89b73e",
   "metadata": {},
   "source": [
    "As expected, the matrix consists of three categories and the total number of each category's instances matches the total number of tiles allocated to each category.\n"
   ]
  },
  {
   "cell_type": "markdown",
   "id": "cb9bac7d-d951-4f54-8cbf-bc2b2a280332",
   "metadata": {},
   "source": [
    "**Step 5.** Map the `waffle` chart matrix into a visual.\n"
   ]
  },
  {
   "cell_type": "code",
   "execution_count": 12,
   "id": "ed7c9651-80a0-4102-bef7-e1dba79c43fd",
   "metadata": {},
   "outputs": [
    {
     "name": "stderr",
     "output_type": "stream",
     "text": [
      "C:\\Users\\ce_ra\\AppData\\Local\\Temp\\ipykernel_22108\\103890981.py:7: MatplotlibDeprecationWarning: Auto-removal of grids by pcolor() and pcolormesh() is deprecated since 3.5 and will be removed two minor releases later; please call grid(False) first.\n",
      "  plt.colorbar()\n"
     ]
    },
    {
     "data": {
      "text/plain": [
       "<Figure size 640x480 with 0 Axes>"
      ]
     },
     "metadata": {},
     "output_type": "display_data"
    },
    {
     "data": {
      "image/png": "[encoded data removed]",
      "text/plain": [
       "<Figure size 1600x400 with 2 Axes>"
      ]
     },
     "metadata": {},
     "output_type": "display_data"
    }
   ],
   "source": [
    "# instantiate a new figure object\n",
    "fig = plt.figure()\n",
    "\n",
    "# use matshow to display the waffle chart\n",
    "colormap = plt.cm.coolwarm\n",
    "plt.matshow(waffle_chart, cmap=colormap)\n",
    "plt.colorbar()\n",
    "plt.show()"
   ]
  },
  {
   "cell_type": "markdown",
   "id": "911859a8-563d-4550-8826-b5bdfb63300c",
   "metadata": {},
   "source": [
    "**Step 6.** Prettify the chart.\n"
   ]
  },
  {
   "cell_type": "code",
   "execution_count": 13,
   "id": "909e77d9-d4f6-4a3d-a2d1-3dba2237fcd0",
   "metadata": {},
   "outputs": [
    {
     "name": "stderr",
     "output_type": "stream",
     "text": [
      "C:\\Users\\ce_ra\\AppData\\Local\\Temp\\ipykernel_22108\\1261046109.py:7: MatplotlibDeprecationWarning: Auto-removal of grids by pcolor() and pcolormesh() is deprecated since 3.5 and will be removed two minor releases later; please call grid(False) first.\n",
      "  plt.colorbar()\n"
     ]
    },
    {
     "data": {
      "text/plain": [
       "<Figure size 640x480 with 0 Axes>"
      ]
     },
     "metadata": {},
     "output_type": "display_data"
    },
    {
     "data": {
      "image/png": "[encoded data removed]",
      "text/plain": [
       "<Figure size 1600x400 with 2 Axes>"
      ]
     },
     "metadata": {},
     "output_type": "display_data"
    }
   ],
   "source": [
    "# instantiate a new figure object\n",
    "fig = plt.figure()\n",
    "\n",
    "# use matshow to display the waffle chart\n",
    "colormap = plt.cm.coolwarm\n",
    "plt.matshow(waffle_chart, cmap=colormap)\n",
    "plt.colorbar()\n",
    "\n",
    "# get the axis\n",
    "ax = plt.gca()\n",
    "\n",
    "# set minor ticks\n",
    "ax.set_xticks(np.arange(-.5, (width), 1), minor=True)\n",
    "ax.set_yticks(np.arange(-.5, (height), 1), minor=True)\n",
    "    \n",
    "# add gridlines based on minor ticks\n",
    "ax.grid(which='minor', color='w', linestyle='-', linewidth=2)\n",
    "\n",
    "plt.xticks([])\n",
    "plt.yticks([])\n",
    "plt.show()"
   ]
  },
  {
   "cell_type": "markdown",
   "id": "1a0d89cc-ad26-4a25-87d8-bfc767d2e2af",
   "metadata": {},
   "source": [
    "**Step 7.** Create a legend and add it to chart.\n"
   ]
  },
  {
   "cell_type": "code",
   "execution_count": 14,
   "id": "dd088219-a351-4aa7-9176-d19c78cb95e7",
   "metadata": {},
   "outputs": [
    {
     "name": "stderr",
     "output_type": "stream",
     "text": [
      "C:\\Users\\ce_ra\\AppData\\Local\\Temp\\ipykernel_22108\\2463873726.py:7: MatplotlibDeprecationWarning: Auto-removal of grids by pcolor() and pcolormesh() is deprecated since 3.5 and will be removed two minor releases later; please call grid(False) first.\n",
      "  plt.colorbar()\n"
     ]
    },
    {
     "data": {
      "text/plain": [
       "<Figure size 640x480 with 0 Axes>"
      ]
     },
     "metadata": {},
     "output_type": "display_data"
    },
    {
     "data": {
      "image/png": "[encoded data removed]",
      "text/plain": [
       "<Figure size 1600x400 with 2 Axes>"
      ]
     },
     "metadata": {},
     "output_type": "display_data"
    }
   ],
   "source": [
    "# instantiate a new figure object\n",
    "fig = plt.figure()\n",
    "\n",
    "# use matshow to display the waffle chart\n",
    "colormap = plt.cm.coolwarm\n",
    "plt.matshow(waffle_chart, cmap=colormap)\n",
    "plt.colorbar()\n",
    "\n",
    "# get the axis\n",
    "ax = plt.gca()\n",
    "\n",
    "# set minor ticks\n",
    "ax.set_xticks(np.arange(-.5, (width), 1), minor=True)\n",
    "ax.set_yticks(np.arange(-.5, (height), 1), minor=True)\n",
    "    \n",
    "# add gridlines based on minor ticks\n",
    "ax.grid(which='minor', color='w', linestyle='-', linewidth=2)\n",
    "\n",
    "plt.xticks([])\n",
    "plt.yticks([])\n",
    "\n",
    "# compute cumulative sum of individual categories to match color schemes between chart and legend\n",
    "values_cumsum = np.cumsum(df_dsn['Total'])\n",
    "total_values = values_cumsum[len(values_cumsum) - 1]\n",
    "\n",
    "# create legend\n",
    "legend_handles = []\n",
    "for i, category in enumerate(df_dsn.index.values):\n",
    "    label_str = category + ' (' + str(df_dsn['Total'][i]) + ')'\n",
    "    color_val = colormap(float(values_cumsum[i])/total_values)\n",
    "    legend_handles.append(mpatches.Patch(color=color_val, label=label_str))\n",
    "\n",
    "# add legend to chart\n",
    "plt.legend(handles=legend_handles,\n",
    "           loc='lower center', \n",
    "           ncol=len(df_dsn.index.values),\n",
    "           bbox_to_anchor=(0., -0.2, 0.95, .1)\n",
    "          )\n",
    "plt.show()"
   ]
  },
  {
   "cell_type": "markdown",
   "id": "f8134a2f-9840-40ea-b8bf-8dcaf426a8bd",
   "metadata": {},
   "source": [
    "And there you go! What a good looking *delicious* `waffle` chart, don't you think?\n"
   ]
  },
  {
   "cell_type": "markdown",
   "id": "f01f7bb2-8903-48d9-aff1-09bbf120b2d4",
   "metadata": {},
   "source": [
    "Now it would very inefficient to repeat these seven steps every time we wish to create a `waffle` chart. So let's combine all seven steps into one function called *create_waffle_chart*. This function would take the following parameters as input:\n",
    "\n",
    "> 1.  **categories**: Unique categories or classes in dataframe.\n",
    "> 2.  **values**: Values corresponding to categories or classes.\n",
    "> 3.  **height**: Defined height of waffle chart.\n",
    "> 4.  **width**: Defined width of waffle chart.\n",
    "> 5.  **colormap**: Colormap class\n",
    "> 6.  **value_sign**: In order to make our function more generalizable, we will add this parameter to address signs that could be associated with a value such as %, $, and so on. **value_sign** has a default value of empty string.\n"
   ]
  },
  {
   "cell_type": "code",
   "execution_count": 15,
   "id": "63f6d6e2-1874-49e3-bbf7-74d93d32289a",
   "metadata": {},
   "outputs": [],
   "source": [
    "def create_waffle_chart(categories, values, height, width, colormap, value_sign=''):\n",
    "\n",
    "    # compute the proportion of each category with respect to the total\n",
    "    total_values = sum(values)\n",
    "    category_proportions = [(float(value) / total_values) for value in values]\n",
    "\n",
    "    # compute the total number of tiles\n",
    "    total_num_tiles = width * height # total number of tiles\n",
    "    print ('Total number of tiles is', total_num_tiles)\n",
    "    \n",
    "    # compute the number of tiles for each catagory\n",
    "    tiles_per_category = [round(proportion * total_num_tiles) for proportion in category_proportions]\n",
    "\n",
    "    # print out number of tiles per category\n",
    "    for i, tiles in enumerate(tiles_per_category):\n",
    "        print (df_dsn.index.values[i] + ': ' + str(tiles))\n",
    "    \n",
    "    # initialize the waffle chart as an empty matrix\n",
    "    waffle_chart = np.zeros((height, width))\n",
    "\n",
    "    # define indices to loop through waffle chart\n",
    "    category_index = 0\n",
    "    tile_index = 0\n",
    "\n",
    "    # populate the waffle chart\n",
    "    for col in range(width):\n",
    "        for row in range(height):\n",
    "            tile_index += 1\n",
    "\n",
    "            # if the number of tiles populated for the current category \n",
    "            # is equal to its corresponding allocated tiles...\n",
    "            if tile_index > sum(tiles_per_category[0:category_index]):\n",
    "                # ...proceed to the next category\n",
    "                category_index += 1       \n",
    "            \n",
    "            # set the class value to an integer, which increases with class\n",
    "            waffle_chart[row, col] = category_index\n",
    "    \n",
    "    # instantiate a new figure object\n",
    "    fig = plt.figure()\n",
    "\n",
    "    # use matshow to display the waffle chart\n",
    "    colormap = plt.cm.coolwarm\n",
    "    plt.matshow(waffle_chart, cmap=colormap)\n",
    "    plt.colorbar()\n",
    "\n",
    "    # get the axis\n",
    "    ax = plt.gca()\n",
    "\n",
    "    # set minor ticks\n",
    "    ax.set_xticks(np.arange(-.5, (width), 1), minor=True)\n",
    "    ax.set_yticks(np.arange(-.5, (height), 1), minor=True)\n",
    "    \n",
    "    # add dridlines based on minor ticks\n",
    "    ax.grid(which='minor', color='w', linestyle='-', linewidth=2)\n",
    "\n",
    "    plt.xticks([])\n",
    "    plt.yticks([])\n",
    "\n",
    "    # compute cumulative sum of individual categories to match color schemes between chart and legend\n",
    "    values_cumsum = np.cumsum(values)\n",
    "    total_values = values_cumsum[len(values_cumsum) - 1]\n",
    "\n",
    "    # create legend\n",
    "    legend_handles = []\n",
    "    for i, category in enumerate(categories):\n",
    "        if value_sign == '%':\n",
    "            label_str = category + ' (' + str(values[i]) + value_sign + ')'\n",
    "        else:\n",
    "            label_str = category + ' (' + value_sign + str(values[i]) + ')'\n",
    "            \n",
    "        color_val = colormap(float(values_cumsum[i])/total_values)\n",
    "        legend_handles.append(mpatches.Patch(color=color_val, label=label_str))\n",
    "\n",
    "    # add legend to chart\n",
    "    plt.legend(\n",
    "        handles=legend_handles,\n",
    "        loc='lower center', \n",
    "        ncol=len(categories),\n",
    "        bbox_to_anchor=(0., -0.2, 0.95, .1)\n",
    "    )\n",
    "    plt.show()"
   ]
  },
  {
   "cell_type": "markdown",
   "id": "d4766d1a-0193-4c2f-8ca0-9ed162796e32",
   "metadata": {},
   "source": [
    "Now to create a `waffle` chart, all we have to do is call the function `create_waffle_chart`. Let's define the input parameters:\n"
   ]
  },
  {
   "cell_type": "code",
   "execution_count": 16,
   "id": "1af7c13e-4511-4760-92a9-f109252d8578",
   "metadata": {},
   "outputs": [],
   "source": [
    "width = 40 # width of chart\n",
    "height = 10 # height of chart\n",
    "\n",
    "categories = df_dsn.index.values # categories\n",
    "values = df_dsn['Total'] # correponding values of categories\n",
    "\n",
    "colormap = plt.cm.coolwarm # color map class"
   ]
  },
  {
   "cell_type": "markdown",
   "id": "5d18b7fe-81fb-45ce-aeb4-dee1eb36a604",
   "metadata": {},
   "source": [
    "And now let's call our function to create a `waffle` chart.\n"
   ]
  },
  {
   "cell_type": "code",
   "execution_count": 17,
   "id": "1d7e2f05-24af-46e7-96ce-b78f671c4bbb",
   "metadata": {},
   "outputs": [
    {
     "name": "stdout",
     "output_type": "stream",
     "text": [
      "Total number of tiles is 400\n",
      "Denmark: 129\n",
      "Norway: 77\n",
      "Sweden: 194\n"
     ]
    },
    {
     "name": "stderr",
     "output_type": "stream",
     "text": [
      "C:\\Users\\ce_ra\\AppData\\Local\\Temp\\ipykernel_22108\\3286913405.py:45: MatplotlibDeprecationWarning: Auto-removal of grids by pcolor() and pcolormesh() is deprecated since 3.5 and will be removed two minor releases later; please call grid(False) first.\n",
      "  plt.colorbar()\n"
     ]
    },
    {
     "data": {
      "text/plain": [
       "<Figure size 640x480 with 0 Axes>"
      ]
     },
     "metadata": {},
     "output_type": "display_data"
    },
    {
     "data": {
      "image/png": "[encoded data removed]",
      "text/plain": [
       "<Figure size 1600x400 with 2 Axes>"
      ]
     },
     "metadata": {},
     "output_type": "display_data"
    }
   ],
   "source": [
    "create_waffle_chart(categories, values, height, width, colormap)"
   ]
  },
  {
   "cell_type": "markdown",
   "id": "09f7737c-9b74-497f-94f5-0be16cdd053a",
   "metadata": {},
   "source": [
    "There seems to be a new Python package for generating `waffle charts` called [PyWaffle](https://github.com/ligyxy/PyWaffle), <br><br>Let's create the same waffle chart with **pywaffle** now\n"
   ]
  },
  {
   "cell_type": "code",
   "execution_count": 18,
   "id": "9fd37f81-3b13-4b15-9774-a20d7a51c02f",
   "metadata": {},
   "outputs": [
    {
     "name": "stdout",
     "output_type": "stream",
     "text": [
      "Collecting pywaffle\n",
      "  Downloading pywaffle-1.1.1-py2.py3-none-any.whl.metadata (2.6 kB)\n",
      "Collecting fontawesomefree (from pywaffle)\n",
      "  Downloading fontawesomefree-6.6.0-py3-none-any.whl.metadata (853 bytes)\n",
      "Requirement already satisfied: matplotlib in c:\\users\\ce_ra\\appdata\\local\\programs\\python\\python39\\lib\\site-packages (from pywaffle) (3.5.1)\n",
      "Requirement already satisfied: cycler>=0.10 in c:\\users\\ce_ra\\appdata\\local\\programs\\python\\python39\\lib\\site-packages (from matplotlib->pywaffle) (0.11.0)\n",
      "Requirement already satisfied: fonttools>=4.22.0 in c:\\users\\ce_ra\\appdata\\local\\programs\\python\\python39\\lib\\site-packages (from matplotlib->pywaffle) (4.29.0)\n",
      "Requirement already satisfied: kiwisolver>=1.0.1 in c:\\users\\ce_ra\\appdata\\local\\programs\\python\\python39\\lib\\site-packages (from matplotlib->pywaffle) (1.3.2)\n",
      "Requirement already satisfied: numpy>=1.17 in c:\\users\\ce_ra\\appdata\\local\\programs\\python\\python39\\lib\\site-packages (from matplotlib->pywaffle) (1.22.4)\n",
      "Requirement already satisfied: packaging>=20.0 in c:\\users\\ce_ra\\appdata\\local\\programs\\python\\python39\\lib\\site-packages (from matplotlib->pywaffle) (21.3)\n",
      "Requirement already satisfied: pillow>=6.2.0 in c:\\users\\ce_ra\\appdata\\local\\programs\\python\\python39\\lib\\site-packages (from matplotlib->pywaffle) (9.0.0)\n",
      "Requirement already satisfied: pyparsing>=2.2.1 in c:\\users\\ce_ra\\appdata\\local\\programs\\python\\python39\\lib\\site-packages (from matplotlib->pywaffle) (3.0.7)\n",
      "Requirement already satisfied: python-dateutil>=2.7 in c:\\users\\ce_ra\\appdata\\local\\programs\\python\\python39\\lib\\site-packages (from matplotlib->pywaffle) (2.8.2)\n",
      "Requirement already satisfied: six>=1.5 in c:\\users\\ce_ra\\appdata\\local\\programs\\python\\python39\\lib\\site-packages (from python-dateutil>=2.7->matplotlib->pywaffle) (1.16.0)\n",
      "Downloading pywaffle-1.1.1-py2.py3-none-any.whl (30 kB)\n",
      "Downloading fontawesomefree-6.6.0-py3-none-any.whl (25.6 MB)\n",
      "   ---------------------------------------- 0.0/25.6 MB ? eta -:--:--\n",
      "   ---------------------------------------- 0.1/25.6 MB 1.7 MB/s eta 0:00:15\n",
      "   ---------------------------------------- 0.3/25.6 MB 2.8 MB/s eta 0:00:09\n",
      "    --------------------------------------- 0.6/25.6 MB 3.6 MB/s eta 0:00:07\n",
      "   - -------------------------------------- 1.1/25.6 MB 4.8 MB/s eta 0:00:06\n",
      "   -- ------------------------------------- 1.5/25.6 MB 5.3 MB/s eta 0:00:05\n",
      "   -- ------------------------------------- 1.8/25.6 MB 5.6 MB/s eta 0:00:05\n",
      "   --- ------------------------------------ 2.2/25.6 MB 5.7 MB/s eta 0:00:05\n",
      "   --- ------------------------------------ 2.4/25.6 MB 5.8 MB/s eta 0:00:05\n",
      "   ---- ----------------------------------- 2.7/25.6 MB 5.8 MB/s eta 0:00:04\n",
      "   ---- ----------------------------------- 3.1/25.6 MB 5.9 MB/s eta 0:00:04\n",
      "   ----- ---------------------------------- 3.5/25.6 MB 6.1 MB/s eta 0:00:04\n",
      "   ------ --------------------------------- 3.9/25.6 MB 6.3 MB/s eta 0:00:04\n",
      "   ------ --------------------------------- 4.2/25.6 MB 6.5 MB/s eta 0:00:04\n",
      "   ------- -------------------------------- 4.7/25.6 MB 6.6 MB/s eta 0:00:04\n",
      "   ------- -------------------------------- 5.0/25.6 MB 6.7 MB/s eta 0:00:04\n",
      "   ------- -------------------------------- 5.0/25.6 MB 6.3 MB/s eta 0:00:04\n",
      "   -------- ------------------------------- 5.4/25.6 MB 6.3 MB/s eta 0:00:04\n",
      "   -------- ------------------------------- 5.6/25.6 MB 6.4 MB/s eta 0:00:04\n",
      "   --------- ------------------------------ 5.9/25.6 MB 6.3 MB/s eta 0:00:04\n",
      "   --------- ------------------------------ 6.2/25.6 MB 6.3 MB/s eta 0:00:04\n",
      "   ---------- ----------------------------- 6.5/25.6 MB 6.3 MB/s eta 0:00:04\n",
      "   ---------- ----------------------------- 7.0/25.6 MB 6.4 MB/s eta 0:00:03\n",
      "   ----------- ---------------------------- 7.3/25.6 MB 6.5 MB/s eta 0:00:03\n",
      "   ----------- ---------------------------- 7.5/25.6 MB 6.4 MB/s eta 0:00:03\n",
      "   ------------ --------------------------- 7.8/25.6 MB 6.5 MB/s eta 0:00:03\n",
      "   ------------ --------------------------- 8.0/25.6 MB 6.3 MB/s eta 0:00:03\n",
      "   ------------- -------------------------- 8.4/25.6 MB 6.4 MB/s eta 0:00:03\n",
      "   ------------- -------------------------- 8.7/25.6 MB 6.5 MB/s eta 0:00:03\n",
      "   ------------- -------------------------- 9.0/25.6 MB 6.4 MB/s eta 0:00:03\n",
      "   -------------- ------------------------- 9.3/25.6 MB 6.5 MB/s eta 0:00:03\n",
      "   --------------- ------------------------ 9.8/25.6 MB 6.6 MB/s eta 0:00:03\n",
      "   --------------- ------------------------ 10.2/25.6 MB 6.6 MB/s eta 0:00:03\n",
      "   ---------------- ----------------------- 10.7/25.6 MB 6.9 MB/s eta 0:00:03\n",
      "   ----------------- ---------------------- 11.2/25.6 MB 7.0 MB/s eta 0:00:03\n",
      "   ----------------- ---------------------- 11.5/25.6 MB 7.0 MB/s eta 0:00:03\n",
      "   ------------------ --------------------- 12.0/25.6 MB 7.0 MB/s eta 0:00:02\n",
      "   ------------------- -------------------- 12.3/25.6 MB 7.0 MB/s eta 0:00:02\n",
      "   ------------------- -------------------- 12.7/25.6 MB 7.3 MB/s eta 0:00:02\n",
      "   -------------------- ------------------- 13.4/25.6 MB 7.4 MB/s eta 0:00:02\n",
      "   --------------------- ------------------ 13.8/25.6 MB 7.3 MB/s eta 0:00:02\n",
      "   ---------------------- ----------------- 14.2/25.6 MB 7.4 MB/s eta 0:00:02\n",
      "   ---------------------- ----------------- 14.6/25.6 MB 7.3 MB/s eta 0:00:02\n",
      "   ----------------------- ---------------- 14.9/25.6 MB 7.3 MB/s eta 0:00:02\n",
      "   ----------------------- ---------------- 15.3/25.6 MB 7.5 MB/s eta 0:00:02\n",
      "   ------------------------ --------------- 15.7/25.6 MB 7.6 MB/s eta 0:00:02\n",
      "   ------------------------- -------------- 16.1/25.6 MB 7.6 MB/s eta 0:00:02\n",
      "   ------------------------- -------------- 16.5/25.6 MB 7.8 MB/s eta 0:00:02\n",
      "   -------------------------- ------------- 17.0/25.6 MB 7.9 MB/s eta 0:00:02\n",
      "   --------------------------- ------------ 17.6/25.6 MB 8.0 MB/s eta 0:00:02\n",
      "   --------------------------- ------------ 17.9/25.6 MB 8.0 MB/s eta 0:00:01\n",
      "   ---------------------------- ----------- 18.3/25.6 MB 8.0 MB/s eta 0:00:01\n",
      "   ----------------------------- ---------- 18.7/25.6 MB 7.9 MB/s eta 0:00:01\n",
      "   ----------------------------- ---------- 19.0/25.6 MB 7.9 MB/s eta 0:00:01\n",
      "   ------------------------------ --------- 19.4/25.6 MB 7.9 MB/s eta 0:00:01\n",
      "   ------------------------------ --------- 19.7/25.6 MB 7.9 MB/s eta 0:00:01\n",
      "   ------------------------------- -------- 20.0/25.6 MB 7.8 MB/s eta 0:00:01\n",
      "   ------------------------------- -------- 20.4/25.6 MB 7.8 MB/s eta 0:00:01\n",
      "   -------------------------------- ------- 20.8/25.6 MB 7.8 MB/s eta 0:00:01\n",
      "   -------------------------------- ------- 21.1/25.6 MB 7.9 MB/s eta 0:00:01\n",
      "   --------------------------------- ------ 21.5/25.6 MB 7.8 MB/s eta 0:00:01\n",
      "   ---------------------------------- ----- 21.9/25.6 MB 7.8 MB/s eta 0:00:01\n",
      "   ---------------------------------- ----- 22.2/25.6 MB 7.7 MB/s eta 0:00:01\n",
      "   ----------------------------------- ---- 22.6/25.6 MB 7.8 MB/s eta 0:00:01\n",
      "   ----------------------------------- ---- 23.0/25.6 MB 7.9 MB/s eta 0:00:01\n",
      "   ------------------------------------ --- 23.5/25.6 MB 7.8 MB/s eta 0:00:01\n",
      "   ------------------------------------ --- 23.7/25.6 MB 7.8 MB/s eta 0:00:01\n",
      "   ------------------------------------- -- 24.1/25.6 MB 7.7 MB/s eta 0:00:01\n",
      "   -------------------------------------- - 24.5/25.6 MB 7.7 MB/s eta 0:00:01\n",
      "   -------------------------------------- - 24.9/25.6 MB 7.7 MB/s eta 0:00:01\n",
      "   ---------------------------------------  25.3/25.6 MB 7.6 MB/s eta 0:00:01\n",
      "   ---------------------------------------  25.6/25.6 MB 7.5 MB/s eta 0:00:01\n",
      "   ---------------------------------------  25.6/25.6 MB 7.4 MB/s eta 0:00:01\n",
      "   ---------------------------------------- 25.6/25.6 MB 7.0 MB/s eta 0:00:00\n",
      "Installing collected packages: fontawesomefree, pywaffle\n",
      "Successfully installed fontawesomefree-6.6.0 pywaffle-1.1.1\n"
     ]
    },
    {
     "name": "stderr",
     "output_type": "stream",
     "text": [
      "\n",
      "[notice] A new release of pip is available: 24.0 -> 24.3.1\n",
      "[notice] To update, run: python.exe -m pip install --upgrade pip\n"
     ]
    }
   ],
   "source": [
    "#install pywaffle\n",
    "!pip install pywaffle"
   ]
  },
  {
   "cell_type": "code",
   "execution_count": 19,
   "id": "7229f5c5-f932-4c60-a011-39c9e6957d77",
   "metadata": {},
   "outputs": [
    {
     "data": {
      "image/png": "[encoded data removed]",
      "text/plain": [
       "<Waffle size 640x480 with 1 Axes>"
      ]
     },
     "metadata": {},
     "output_type": "display_data"
    }
   ],
   "source": [
    "#import Waffle from pywaffle\n",
    "from pywaffle import Waffle\n",
    "\n",
    "#Set up the Waffle chart figure\n",
    "\n",
    "fig = plt.figure(FigureClass = Waffle,\n",
    "                 rows = 20, columns = 30, #pass the number of rows and columns for the waffle \n",
    "                 values = df_dsn['Total'], #pass the data to be used for display\n",
    "                 cmap_name = 'tab20', #color scheme\n",
    "                 legend = {'labels': [f\"{k} ({v})\" for k, v in zip(df_dsn.index.values,df_dsn.Total)],\n",
    "                            'loc': 'lower left', 'bbox_to_anchor':(0,-0.1),'ncol': 3}\n",
    "                 #notice the use of list comprehension for creating labels \n",
    "                 #from index and total of the dataset\n",
    "                )\n",
    "\n",
    "#Display the waffle chart\n",
    "plt.show()"
   ]
  },
  {
   "cell_type": "markdown",
   "id": "48f0ed14-613d-45ed-b659-ffe5bca31688",
   "metadata": {},
   "source": [
    "**Question:** Create a Waffle chart to dispaly the proportiona of China and Inida total immigrant contribution.\n"
   ]
  },
  {
   "cell_type": "code",
   "execution_count": 33,
   "id": "f0373c3e-942f-4226-bec7-1ce9fbcce8e5",
   "metadata": {},
   "outputs": [
    {
     "data": {
      "image/png": "[encoded data removed]",
      "text/plain": [
       "<Waffle size 640x480 with 1 Axes>"
      ]
     },
     "metadata": {},
     "output_type": "display_data"
    }
   ],
   "source": [
    "df_ci = df_can.loc[['China','India']]\n",
    "df_ci\n",
    "\n",
    "total_values_ci = df_ci['Total'].sum()\n",
    "category_proportions_ci = df_ci['Total']/total_values_ci\n",
    "\n",
    "category_proportions_ci.to_frame()\n",
    "\n",
    "fig = plt.figure(FigureClass= Waffle,\n",
    "                 rows = 20, columns = 30,\n",
    "                 values = df_ci['Total'],\n",
    "                 cmap_name = 'tab20',\n",
    "                 legend = {'labels': [f\"{k}({v})\" for k, v in zip(df_ci.index.values,df_ci.Total)],\n",
    "                           'loc': 'lower left',\n",
    "                           'bbox_to_anchor':(0,-0.1),'ncol':3}\n",
    "                )"
   ]
  },
  {
   "cell_type": "markdown",
   "id": "e717647b-03d9-4bf1-97af-9bf3a9da1de1",
   "metadata": {},
   "source": [
    "<details><summary>Click here for a sample python solution</summary>\n",
    "\n",
    "```python\n",
    "    #hint\n",
    "    #create dataframe\n",
    "    data_CI = .............\n",
    "    #Set up the Waffle chart figure\n",
    "\n",
    "    fig = plt.figure(FigureClass = ............,\n",
    "                     rows = ........, columns =....., #pass the number of rows and columns for the waffle \n",
    "                     values = ........., #pass the data to be used for display\n",
    "                     cmap_name = 'tab20', #color scheme\n",
    "                     legend = {'labels':[.......],\n",
    "                                'loc': ........., 'bbox_to_anchor':(....),'ncol': 2}\n",
    "                     #notice the use of list comprehension for creating labels \n",
    "                     #from index and total of the dataset\n",
    "                    )\n",
    "\n",
    "    #Display the waffle chart\n",
    "    plt.show()\n",
    "```\n"
   ]
  },
  {
   "cell_type": "markdown",
   "id": "27e53888-4017-4778-9f1c-5d92a7c3a1da",
   "metadata": {},
   "source": [
    "# Word Clouds <a id=\"4\"></a>\n",
    "\n",
    "`Word` clouds (also known as text clouds or tag clouds) work in a simple way: the more a specific word appears in a source of textual data (such as a speech, blog post, or database), the bigger and bolder it appears in the word cloud.\n"
   ]
  },
  {
   "cell_type": "markdown",
   "id": "3d9a61fd-30d9-4473-9fc1-e65b6c9aa6f4",
   "metadata": {},
   "source": [
    "Luckily, a Python package already exists in Python for generating `word` clouds. The package, called `word_cloud` was developed by **Andreas Mueller**. You can learn more about the package by following this [link](https://github.com/amueller/word_cloud/).\n",
    "\n",
    "Let's use this package to learn how to generate a word cloud for a given text document.\n"
   ]
  },
  {
   "cell_type": "markdown",
   "id": "df96217d-ef09-4757-916c-4b0bf7c9732e",
   "metadata": {},
   "source": [
    "First, let's install the package.\n"
   ]
  },
  {
   "cell_type": "code",
   "execution_count": 34,
   "id": "beb618b7-9198-4dcc-9a30-fb76fa5fc7ef",
   "metadata": {},
   "outputs": [
    {
     "name": "stdout",
     "output_type": "stream",
     "text": [
      "Wordcloud imported!\n"
     ]
    }
   ],
   "source": [
    "#import package and its set of stopwords\n",
    "from wordcloud import WordCloud, STOPWORDS\n",
    "\n",
    "print ('Wordcloud imported!')"
   ]
  },
  {
   "cell_type": "markdown",
   "id": "aa398135-6f48-4b2f-b8a4-0238392a5bfd",
   "metadata": {},
   "source": [
    "`Word` clouds are commonly used to perform high-level analysis and visualization of text data. Accordinly, let's digress from the immigration dataset and work with an example that involves analyzing text data. Let's try to analyze a short novel written by **Lewis Carroll** titled *Alice's Adventures in Wonderland*. Let's go ahead and download a *.txt* file of the novel.\n"
   ]
  },
  {
   "cell_type": "code",
   "execution_count": 35,
   "id": "c7409011-de35-4b56-8cdb-fb140be3a42e",
   "metadata": {},
   "outputs": [],
   "source": [
    "import urllib\n",
    "\n",
    "# # open the file and read it into a variable alice_novel\n",
    "alice_novel = urllib.request.urlopen('https://cf-courses-data.s3.us.cloud-object-storage.appdomain.cloud/IBMDeveloperSkillsNetwork-DV0101EN-SkillsNetwork/Data%20Files/alice_novel.txt').read().decode(\"utf-8\")"
   ]
  },
  {
   "cell_type": "markdown",
   "id": "479ebf75-6f22-4066-93cd-e6589e74eacd",
   "metadata": {},
   "source": [
    "Next, let's use the stopwords that we imported from `word_cloud`. We use the function *set* to remove any redundant stopwords.\n"
   ]
  },
  {
   "cell_type": "code",
   "execution_count": 36,
   "id": "8ea8a673-d80f-44c8-8a98-4ffa050beee6",
   "metadata": {},
   "outputs": [],
   "source": [
    "stopwords = set(STOPWORDS)"
   ]
  },
  {
   "cell_type": "markdown",
   "id": "a9892e86-6869-465d-950e-5d8667e75d9a",
   "metadata": {},
   "source": [
    "Create a word cloud object and generate a word cloud. For simplicity, let's generate a word cloud using only the first 2000 words in the novel.\n"
   ]
  },
  {
   "cell_type": "code",
   "execution_count": 52,
   "id": "12a4b90e-c871-43ff-99d3-38f4976c1da4",
   "metadata": {},
   "outputs": [],
   "source": [
    "#if you get attribute error while generating worldcloud, upgrade Pillow and numpy using below code\n",
    "# %pip install --upgrade Pillow \n",
    "# %pip install --upgrade numpy"
   ]
  },
  {
   "cell_type": "code",
   "execution_count": null,
   "id": "12d8580b-6084-4d97-a694-d7da7d164992",
   "metadata": {},
   "outputs": [],
   "source": [
    "# instantiate a word cloud object\n",
    "# font_path = 'C:/Window/Fonts/Calibri.ttf'\n",
    "# font_path = r'C:\\Users\\ce_ra\\Downloads\\Rubik_Vinyl\\RubikVinyl-Regular.ttf'\n",
    "alice_wc = WordCloud()#font_path=font_path)\n",
    "\n",
    "# generate the word cloud\n",
    "alice_wc.generate(alice_novel)"
   ]
  },
  {
   "cell_type": "markdown",
   "id": "e2469d05-8c44-4c1c-8dcd-c4e17f7448c4",
   "metadata": {},
   "source": [
    "Awesome! Now that the `word` cloud is created, let's visualize it.\n"
   ]
  },
  {
   "cell_type": "code",
   "execution_count": null,
   "id": "77236181-06be-4bcb-b661-7d338fdcbf8f",
   "metadata": {},
   "outputs": [],
   "source": [
    "# display the word cloud\n",
    "plt.imshow(alice_wc, interpolation='bilinear')\n",
    "plt.axis('off')\n",
    "plt.show()"
   ]
  },
  {
   "cell_type": "markdown",
   "id": "133e85f8-4ffe-4cf8-a362-8564797499c0",
   "metadata": {},
   "source": [
    "Interesting! So in the first 2000 words in the novel, the most common words are **Alice**, **said**, **little**, **Queen**, and so on. Let's resize the cloud so that we can see the less frequent words a little better.\n"
   ]
  },
  {
   "cell_type": "code",
   "execution_count": null,
   "id": "4d6c032f-eeed-4ee5-8ed5-445f04f76750",
   "metadata": {},
   "outputs": [],
   "source": [
    "fig = plt.figure(figsize=(14, 18))\n",
    "\n",
    "# display the cloud\n",
    "plt.imshow(alice_wc, interpolation='bilinear')\n",
    "plt.axis('off')\n",
    "plt.show()"
   ]
  },
  {
   "cell_type": "markdown",
   "id": "511ca268-c9e3-4447-9f18-3e4c28a8d3a2",
   "metadata": {},
   "source": [
    "Much better! However, **said** isn't really an informative word. So let's add it to our stopwords and re-generate the cloud.\n"
   ]
  },
  {
   "cell_type": "code",
   "execution_count": null,
   "id": "e548c648-5a51-4065-ab44-3a522f17642c",
   "metadata": {},
   "outputs": [],
   "source": [
    "stopwords.add('said') # add the words said to stopwords\n",
    "\n",
    "# re-generate the word cloud\n",
    "alice_wc.generate(alice_novel)\n",
    "\n",
    "# display the cloud\n",
    "fig = plt.figure(figsize=(14, 18))\n",
    "\n",
    "plt.imshow(alice_wc, interpolation='bilinear')\n",
    "plt.axis('off')\n",
    "plt.show()"
   ]
  },
  {
   "cell_type": "markdown",
   "id": "cf86f3e4-a1b2-4ee4-88a5-b940d56663a2",
   "metadata": {},
   "source": [
    "Excellent! This looks really interesting! Another cool thing you can implement with the `word_cloud` package is superimposing the words onto a mask of any shape. Let's use a mask of Alice and her rabbit. We already created the mask for you, so let's go ahead and download it and call it *alice_mask.png*.\n"
   ]
  },
  {
   "cell_type": "code",
   "execution_count": null,
   "id": "8bdeb1df-4bf5-4a3c-be57-e34e19f574c1",
   "metadata": {},
   "outputs": [],
   "source": [
    "#save mask to alice_mask\n",
    "alice_mask = np.array(Image.open(urllib.request.urlopen('https://cf-courses-data.s3.us.cloud-object-storage.appdomain.cloud/IBMDeveloperSkillsNetwork-DV0101EN-SkillsNetwork/labs/Module%204/images/alice_mask.png')))"
   ]
  },
  {
   "cell_type": "markdown",
   "id": "27565303-2a4d-4962-b353-6ce40fd53caa",
   "metadata": {},
   "source": [
    "Let's take a look at how the mask looks like.\n"
   ]
  },
  {
   "cell_type": "code",
   "execution_count": null,
   "id": "f7dea154-e901-488f-aeae-b8d1952cd19a",
   "metadata": {},
   "outputs": [],
   "source": [
    "fig = plt.figure(figsize=(14, 18))\n",
    "\n",
    "plt.imshow(alice_mask, cmap=plt.cm.gray, interpolation='bilinear')\n",
    "plt.axis('off')\n",
    "plt.show()"
   ]
  },
  {
   "cell_type": "markdown",
   "id": "84432cda-0408-4e0e-9fbf-64cfde63b68d",
   "metadata": {},
   "source": [
    "Shaping the `word` cloud according to the mask is straightforward using `word_cloud` package. For simplicity, we will continue using the first 2000 words in the novel.\n"
   ]
  },
  {
   "cell_type": "code",
   "execution_count": null,
   "id": "f8be13e9-e63b-4055-9e34-48387987ccdf",
   "metadata": {},
   "outputs": [],
   "source": [
    "# instantiate a word cloud object\n",
    "alice_wc = WordCloud(background_color='white', max_words=2000, mask=alice_mask, stopwords=stopwords)\n",
    "\n",
    "# generate the word cloud\n",
    "alice_wc.generate(alice_novel)\n",
    "\n",
    "# display the word cloud\n",
    "fig = plt.figure(figsize=(14, 18))\n",
    "\n",
    "plt.imshow(alice_wc, interpolation='bilinear')\n",
    "plt.axis('off')\n",
    "plt.show()"
   ]
  },
  {
   "cell_type": "markdown",
   "id": "c94be937-3de7-4b23-9f0e-411f1506dd89",
   "metadata": {},
   "source": [
    "Really impressive!\n"
   ]
  },
  {
   "cell_type": "markdown",
   "id": "a7519e2f-e621-4af6-b484-a1c910ed28a9",
   "metadata": {},
   "source": [
    "Unfortunately, our immigration data does not have any text data, but where there is a will there is a way. Let's generate sample text data from our immigration dataset, say text data of 90 words.\n"
   ]
  },
  {
   "cell_type": "markdown",
   "id": "70bbc577-20a8-4cae-8b05-6f64808bc612",
   "metadata": {},
   "source": [
    "Let's recall how our data looks like.\n"
   ]
  },
  {
   "cell_type": "code",
   "execution_count": null,
   "id": "7adc3783-6a5c-4edb-bf71-13d9597180ca",
   "metadata": {},
   "outputs": [],
   "source": [
    "df_can.head()"
   ]
  },
  {
   "cell_type": "markdown",
   "id": "3f06a7b2-7f7d-467c-a126-4e89b9407157",
   "metadata": {},
   "source": [
    "And what was the total immigration from 1980 to 2013?\n"
   ]
  },
  {
   "cell_type": "code",
   "execution_count": null,
   "id": "6a46f82c-49bd-4cc7-88b4-3393b91a10d7",
   "metadata": {},
   "outputs": [],
   "source": [
    "total_immigration = df_can['Total'].sum()\n",
    "total_immigration"
   ]
  },
  {
   "cell_type": "markdown",
   "id": "92fd9ba5-bf2b-49f2-a15a-7713d2563f05",
   "metadata": {},
   "source": [
    "Using countries with single-word names, let's duplicate each country's name based on how much they contribute to the total immigration.\n"
   ]
  },
  {
   "cell_type": "code",
   "execution_count": null,
   "id": "7e0ce832-418e-41e9-afbd-931534bbe6f2",
   "metadata": {},
   "outputs": [],
   "source": [
    "max_words = 90\n",
    "word_string = ''\n",
    "for country in df_can.index.values:\n",
    "     # check if country's name is a single-word name\n",
    "    if country.count(\" \") == 0:\n",
    "        repeat_num_times = int(df_can.loc[country, 'Total'] / total_immigration * max_words)\n",
    "        word_string = word_string + ((country + ' ') * repeat_num_times)\n",
    "\n",
    "# display the generated text\n",
    "word_string"
   ]
  },
  {
   "cell_type": "markdown",
   "id": "acbfde50-a415-42d8-ac4b-ef8a5fa6215b",
   "metadata": {},
   "source": [
    "We are not dealing with any stopwords here, so there is no need to pass them when creating the word cloud.\n"
   ]
  },
  {
   "cell_type": "code",
   "execution_count": null,
   "id": "9796dc4b-45d5-49ce-adc4-41b2abcc6118",
   "metadata": {},
   "outputs": [],
   "source": [
    "# create the word cloud\n",
    "wordcloud = WordCloud(background_color='white').generate(word_string)\n",
    "\n",
    "print('Word cloud created!')"
   ]
  },
  {
   "cell_type": "code",
   "execution_count": null,
   "id": "51373278-ed68-4525-8f06-b452f9730ab5",
   "metadata": {},
   "outputs": [],
   "source": [
    "# display the cloud\n",
    "plt.figure(figsize=(14, 18))\n",
    "\n",
    "plt.imshow(wordcloud, interpolation='bilinear')\n",
    "plt.axis('off')\n",
    "plt.show()"
   ]
  },
  {
   "cell_type": "markdown",
   "id": "47aa13a3-0f8f-40c7-b676-6a70f82cc69e",
   "metadata": {},
   "source": [
    "According to the above word cloud, it looks like the majority of the people who immigrated came from one of 15 countries that are displayed by the word cloud. One cool visual that you could build, is perhaps using the map of Canada and a mask and superimposing the word cloud on top of the map of Canada. That would be an interesting visual to build!\n"
   ]
  },
  {
   "cell_type": "markdown",
   "id": "456bc56c-f039-4ebf-b8f7-d1e1c7549c1d",
   "metadata": {},
   "source": [
    "# Plotting with Seaborn <a id=\"5\"></a>\n",
    "\n",
    "> Seaborn is a Python visualization library based on matplotlib. It provides a high-level interface for drawing attractive statistical graphics. You can learn more about *seaborn* by following this [link](https://seaborn.pydata.org/?utm_medium=Exinfluencer&utm_source=Exinfluencer&utm_content=000026UJ&utm_term=10006555&utm_id=NA-SkillsNetwork-Channel-SkillsNetworkCoursesIBMDeveloperSkillsNetworkDV0101ENSkillsNetwork20297740-2021-01-01) and more about *seaborn* regression plots by following this [link](http://seaborn.pydata.org/generated/seaborn.regplot.html?utm_medium=Exinfluencer&utm_source=Exinfluencer&utm_content=000026UJ&utm_term=10006555&utm_id=NA-SkillsNetwork-Channel-SkillsNetworkCoursesIBMDeveloperSkillsNetworkDV0101ENSkillsNetwork20297740-2021-01-01).\n"
   ]
  },
  {
   "cell_type": "markdown",
   "id": "a291a9b8-5d29-4163-8f75-a95fb37694e5",
   "metadata": {},
   "source": [
    "In lab *Pie Charts, Box Plots, Scatter Plots, and Bubble Plots*, we learned how to create a scatter plot and then fit a regression line. It took \\~20 lines of code to create the scatter plot along with the regression fit. In this final section, we will explore *seaborn* and see how efficient it is to create regression lines and fits using this library!\n"
   ]
  },
  {
   "cell_type": "markdown",
   "id": "f128ad47-a690-43bc-b7d4-eacf254c013e",
   "metadata": {},
   "source": [
    "### Categorical Plots\n",
    "In our data 'df_can', let's find out how many continents are mentioned\n"
   ]
  },
  {
   "cell_type": "code",
   "execution_count": null,
   "id": "f9b15198-210a-4edc-a3ea-38c3aede65c6",
   "metadata": {},
   "outputs": [],
   "source": [
    "df_can['Continent'].unique()"
   ]
  },
  {
   "cell_type": "markdown",
   "id": "14fc3cb0-1a29-4300-a824-356d53f88022",
   "metadata": {},
   "source": [
    "### countplot\n",
    "**A count plot can be thought of as a histogram across a categorical, instead of quantitative, variable.**\n",
    "Let's find the count of Continents in the data 'df_can' using countplot on 'Continent'\n"
   ]
  },
  {
   "cell_type": "code",
   "execution_count": null,
   "id": "82616c21-6465-433c-b506-8cfe6a597ce9",
   "metadata": {},
   "outputs": [],
   "source": [
    "sns.countplot(x='Continent', data=df_can)"
   ]
  },
  {
   "cell_type": "markdown",
   "id": "cc8dbb81-798a-493c-8aea-8036f6ea1cc6",
   "metadata": {},
   "source": [
    "The labels on the x-axis doesnot look as expected.<br>Let's try to replace the 'Latin America and the Caribbean' with and \"L-America\", 'Northern America' with \"N-America\", <br>and change the figure size and then display the plot again\n"
   ]
  },
  {
   "cell_type": "code",
   "execution_count": null,
   "id": "1d9753e3-1093-47a1-9672-3927dc732194",
   "metadata": {},
   "outputs": [],
   "source": [
    "df_can1 = df_can.replace('Latin America and the Caribbean', 'L-America')\n",
    "df_can1 = df_can1.replace('Northern America', 'N-America')"
   ]
  },
  {
   "cell_type": "code",
   "execution_count": null,
   "id": "07cdc9a1-ecd6-47f8-bc30-9fa3fa9e40a0",
   "metadata": {},
   "outputs": [],
   "source": [
    "plt.figure(figsize=(15, 10))\n",
    "sns.countplot(x='Continent', data=df_can1)"
   ]
  },
  {
   "cell_type": "markdown",
   "id": "136666e5-f556-43ad-9010-7885cb33f593",
   "metadata": {},
   "source": [
    "Much better!\n"
   ]
  },
  {
   "cell_type": "markdown",
   "id": "3c7884b0-edcf-4caa-9a80-6b85a77d0439",
   "metadata": {},
   "source": [
    "### Barplot\n",
    "**This plot will perform the Groupby on a categorical varaible and plot aggregated values, with confidence intervals**.<br> Let's plot the total immigrants Continent-wise\n"
   ]
  },
  {
   "cell_type": "code",
   "execution_count": null,
   "id": "d83ca199-0ba9-4924-82b1-09c96c344ca1",
   "metadata": {},
   "outputs": [],
   "source": [
    "plt.figure(figsize=(15, 10))\n",
    "sns.barplot(x='Continent', y='Total', data=df_can1)"
   ]
  },
  {
   "cell_type": "markdown",
   "id": "904fcf72-0e3e-407c-aaae-f53dd091478d",
   "metadata": {},
   "source": [
    "You can verify the values by performing the groupby on the Total and Continent for mean()\n"
   ]
  },
  {
   "cell_type": "code",
   "execution_count": null,
   "id": "1b2599b6-82df-4b63-8241-86b536a12644",
   "metadata": {},
   "outputs": [],
   "source": [
    "df_Can2=df_can1.groupby('Continent')['Total'].mean()\n",
    "df_Can2"
   ]
  },
  {
   "cell_type": "markdown",
   "id": "706b0f1e-2c7a-4b7d-9a5f-7de4e6882afb",
   "metadata": {},
   "source": [
    "Create a new dataframe that stores that total number of landed immigrants to Canada per year from 1980 to 2013.\n"
   ]
  },
  {
   "cell_type": "markdown",
   "id": "05970805-deab-4fd1-a5ba-7bb2bb554477",
   "metadata": {},
   "source": [
    "# Regression Plot <a id=\"6\"></a>\n",
    "With *seaborn*, generating a regression plot is as simple as calling the **regplot** function.\n"
   ]
  },
  {
   "cell_type": "code",
   "execution_count": null,
   "id": "da9f40fc-546d-453b-8aa7-66cf24e9bf19",
   "metadata": {},
   "outputs": [],
   "source": [
    "years = list(map(str, range(1980, 2014)))\n",
    "# we can use the sum() method to get the total population per year\n",
    "df_tot = pd.DataFrame(df_can[years].sum(axis=0))\n",
    "\n",
    "# change the years to type float (useful for regression later on)\n",
    "df_tot.index = map(float, df_tot.index)\n",
    "\n",
    "# reset the index to put in back in as a column in the df_tot dataframe\n",
    "df_tot.reset_index(inplace=True)\n",
    "\n",
    "# rename columns\n",
    "df_tot.columns = ['year', 'total']\n",
    "\n",
    "# view the final dataframe\n",
    "df_tot.head()"
   ]
  },
  {
   "cell_type": "code",
   "execution_count": null,
   "id": "8595d910-c841-44d6-b736-29bcc4ab1ca9",
   "metadata": {},
   "outputs": [],
   "source": [
    "#seaborn is already imported at the start of this lab\n",
    "sns.regplot(x='year', y='total', data=df_tot)"
   ]
  },
  {
   "cell_type": "markdown",
   "id": "2634ca9f-0733-41d7-8212-6fef88bbbe21",
   "metadata": {},
   "source": [
    "This is not magic; it is *seaborn*! You can also customize the color of the scatter plot and regression line. Let's change the color to green.\n"
   ]
  },
  {
   "cell_type": "code",
   "execution_count": null,
   "id": "88a5972c-7f29-45e2-bbdb-f1ea7cb20f1c",
   "metadata": {},
   "outputs": [],
   "source": [
    "sns.regplot(x='year', y='total', data=df_tot, color='green')\n",
    "plt.show()"
   ]
  },
  {
   "cell_type": "markdown",
   "id": "32883d50-c6c7-4015-af20-8f21df231249",
   "metadata": {},
   "source": [
    "You can always customize the marker shape, so instead of circular markers, let's use `+`.\n"
   ]
  },
  {
   "cell_type": "code",
   "execution_count": null,
   "id": "dc1f8c67-56f5-4f5f-95c7-35615d87a52d",
   "metadata": {},
   "outputs": [],
   "source": [
    "ax = sns.regplot(x='year', y='total', data=df_tot, color='green', marker='+')\n",
    "plt.show()"
   ]
  },
  {
   "cell_type": "markdown",
   "id": "f6bd10b1-6922-4ee6-82a6-988fccb949d3",
   "metadata": {},
   "source": [
    "Let's blow up the plot a little so that it is more appealing to the sight.\n"
   ]
  },
  {
   "cell_type": "code",
   "execution_count": null,
   "id": "24d1cd6f-e005-4602-ae56-8e52b55a42e6",
   "metadata": {},
   "outputs": [],
   "source": [
    "plt.figure(figsize=(15, 10))\n",
    "sns.regplot(x='year', y='total', data=df_tot, color='green', marker='+')\n",
    "plt.show()"
   ]
  },
  {
   "cell_type": "markdown",
   "id": "a7eaeb15-378c-4612-aa80-70bb1959cc48",
   "metadata": {},
   "source": [
    "And let's increase the size of markers so they match the new size of the figure, and add a title and x- and y-labels.\n"
   ]
  },
  {
   "cell_type": "code",
   "execution_count": null,
   "id": "9ca246b7-8ca3-44c7-bf94-bd0e1ce670ba",
   "metadata": {},
   "outputs": [],
   "source": [
    "plt.figure(figsize=(15, 10))\n",
    "ax = sns.regplot(x='year', y='total', data=df_tot, color='green', marker='+', scatter_kws={'s': 200})\n",
    "\n",
    "ax.set(xlabel='Year', ylabel='Total Immigration') # add x- and y-labels\n",
    "ax.set_title('Total Immigration to Canada from 1980 - 2013') # add title\n",
    "plt.show()"
   ]
  },
  {
   "cell_type": "markdown",
   "id": "68bdf01d-3966-4ebd-aa60-b9e11b99ca05",
   "metadata": {},
   "source": [
    "And finally increase the font size of the tickmark labels, the title, and the x- and y-labels so they don't feel left out!\n"
   ]
  },
  {
   "cell_type": "code",
   "execution_count": null,
   "id": "dd3fb882-7488-4589-8cb9-da59f863a29d",
   "metadata": {},
   "outputs": [],
   "source": [
    "plt.figure(figsize=(15, 10))\n",
    "\n",
    "sns.set(font_scale=1.5)\n",
    "\n",
    "ax = sns.regplot(x='year', y='total', data=df_tot, color='green', marker='+', scatter_kws={'s': 200})\n",
    "ax.set(xlabel='Year', ylabel='Total Immigration')\n",
    "ax.set_title('Total Immigration to Canada from 1980 - 2013')\n",
    "plt.show()"
   ]
  },
  {
   "cell_type": "markdown",
   "id": "806524ec-929d-41a6-9574-894c06c2e438",
   "metadata": {},
   "source": [
    "Amazing! A complete scatter plot with a regression fit with 5 lines of code only. Isn't this really amazing?\n"
   ]
  },
  {
   "cell_type": "markdown",
   "id": "2e1e4e1d-6f62-4ac1-8add-70693664b78e",
   "metadata": {},
   "source": [
    "If you are not a big fan of the purple background, you can easily change the style to a white plain background.\n"
   ]
  },
  {
   "cell_type": "code",
   "execution_count": null,
   "id": "35d5da80-1e86-4475-86c5-8edde89d1323",
   "metadata": {},
   "outputs": [],
   "source": [
    "plt.figure(figsize=(15, 10))\n",
    "\n",
    "sns.set(font_scale=1.5)\n",
    "sns.set_style('ticks')  # change background to white background\n",
    "\n",
    "ax = sns.regplot(x='year', y='total', data=df_tot, color='green', marker='+', scatter_kws={'s': 200})\n",
    "ax.set(xlabel='Year', ylabel='Total Immigration')\n",
    "ax.set_title('Total Immigration to Canada from 1980 - 2013')\n",
    "plt.show()"
   ]
  },
  {
   "cell_type": "markdown",
   "id": "cf040fd8-1aed-49c5-b630-d6e414b9327f",
   "metadata": {},
   "source": [
    "Or to a white background with gridlines.\n"
   ]
  },
  {
   "cell_type": "code",
   "execution_count": null,
   "id": "9c9015c6-8d84-4832-a1b4-bd926941e572",
   "metadata": {},
   "outputs": [],
   "source": [
    "plt.figure(figsize=(15, 10))\n",
    "\n",
    "sns.set(font_scale=1.5)\n",
    "sns.set_style('whitegrid')\n",
    "\n",
    "ax = sns.regplot(x='year', y='total', data=df_tot, color='green', marker='+', scatter_kws={'s': 200})\n",
    "ax.set(xlabel='Year', ylabel='Total Immigration')\n",
    "ax.set_title('Total Immigration to Canada from 1980 - 2013')\n",
    "plt.show()"
   ]
  },
  {
   "cell_type": "markdown",
   "id": "18f0831e-103b-4d36-8180-3e5a8496b352",
   "metadata": {},
   "source": [
    "**Question**: Use seaborn to create a scatter plot with a regression line to visualize the total immigration from Denmark, Sweden, and Norway to Canada from 1980 to 2013.\n"
   ]
  },
  {
   "cell_type": "code",
   "execution_count": null,
   "id": "b4bac5b9-ed9c-4d1d-82d6-4989997075fb",
   "metadata": {},
   "outputs": [],
   "source": [
    "### type your answer here\n",
    "\n",
    "\n",
    "\n"
   ]
  },
  {
   "cell_type": "markdown",
   "id": "3e2f716b-6b43-4550-a9d5-3323e2979a30",
   "metadata": {},
   "source": [
    "<details><summary>Click here for a sample python solution</summary>\n",
    "\n",
    "```python\n",
    "    #The correct answer is:\n",
    "    \n",
    "    # create df_countries dataframe\n",
    "    df_countries = df_can.loc[['Denmark', 'Norway', 'Sweden'], years].transpose()\n",
    "\n",
    "    # create df_total by summing across three countries for each year\n",
    "    df_total = pd.DataFrame(df_countries.sum(axis=1))\n",
    "\n",
    "    # reset index in place\n",
    "    df_total.reset_index(inplace=True)\n",
    "\n",
    "    # rename columns\n",
    "    df_total.columns = ['year', 'total']\n",
    "\n",
    "    # change column year from string to int to create scatter plot\n",
    "    df_total['year'] = df_total['year'].astype(int)\n",
    "\n",
    "    # define figure size\n",
    "    plt.figure(figsize=(15, 10))\n",
    "\n",
    "    # define background style and font size\n",
    "    sns.set(font_scale=1.5)\n",
    "    sns.set_style('whitegrid')\n",
    "\n",
    "    # generate plot and add title and axes labels\n",
    "    ax = sns.regplot(x='year', y='total', data=df_total, color='green', marker='+', scatter_kws={'s': 200})\n",
    "    ax.set(xlabel='Year', ylabel='Total Immigration')\n",
    "    ax.set_title('Total Immigrationn from Denmark, Sweden, and Norway to Canada from 1980 - 2013')\n",
    "\n",
    "```\n",
    "\n",
    "</details>\n"
   ]
  },
  {
   "cell_type": "code",
   "execution_count": null,
   "id": "2f59419c-2c99-443f-9c0f-8fc466823bb7",
   "metadata": {},
   "outputs": [],
   "source": []
  },
  {
   "cell_type": "markdown",
   "id": "63d2814f-e1d3-42f5-bd72-8c30c16aa7f4",
   "metadata": {},
   "source": [
    "### Thank you for completing this lab!\n",
    "\n",
    "## Author\n",
    "\n",
    "<a href=\"https://www.linkedin.com/in/aklson/?utm_medium=Exinfluencer&utm_source=Exinfluencer&utm_content=000026UJ&utm_term=10006555&utm_id=NA-SkillsNetwork-Channel-SkillsNetworkCoursesIBMDeveloperSkillsNetworkDV0101ENSkillsNetwork20297740-2021-01-01\">Alex Aklson</a><br>\n",
    "<a href =\"https://www.linkedin.com/in/p-b28802262/\">Dr. Pooja</a>\n",
    "\n",
    "## <h3 align=\"center\"> © IBM Corporation 2020. All rights reserved. <h3/>\n",
    "<!--\n",
    "\n",
    "## Change Log\n",
    "\n",
    "| Date (YYYY-MM-DD) | Version | Changed By    | Change Description                 |\n",
    "| ----------------- | ------- | ------------- | ---------------------------------- |\n",
    "| 2023-07-07        | 2.7     | Dr. Pooja         | wordcloud, sns, piplite,pywaffle issue resolved       |\n",
    "| 2023-06-11        | 2.6     | Dr. Pooja         | Clean data link, pywaffle,Categorical plots included       |\n",
    "| 2021-05-19        | 2.3     | Weiqing Wang  | Fixed typos and code spells        |\n",
    "| 2021-01-21        | 2.2     | Lakshmi Holla | Updated TOC markdown cell          |\n",
    "| 2020-11-03        | 2.1     | Lakshmi Holla | Changed URL of excel file          |\n",
    "| 2020-08-27        | 2.0     | Lavanya       | Moved lab to course repo in GitLab | --!>\n",
    "\n",
    "## <h3 align=\"center\"> © IBM Corporation 2020. All rights reserved. <h3/>\n"
   ]
  },
  {
   "cell_type": "code",
   "execution_count": null,
   "id": "a6f95845-919c-4c7c-92db-a2822988051c",
   "metadata": {},
   "outputs": [],
   "source": []
  }
 ],
 "metadata": {
  "kernelspec": {
   "display_name": "Python 3",
   "language": "python",
   "name": "python3"
  },
  "language_info": {
   "codemirror_mode": {
    "name": "ipython",
    "version": 3
   },
   "file_extension": ".py",
   "mimetype": "text/x-python",
   "name": "python",
   "nbconvert_exporter": "python",
   "pygments_lexer": "ipython3",
   "version": "3.9.2"
  },
  "prev_pub_hash": "ce0a035a6f3094256005cef1792f2e5d4983e15437f64794f8aba7885a516488"
 },
 "nbformat": 4,
 "nbformat_minor": 4
}
